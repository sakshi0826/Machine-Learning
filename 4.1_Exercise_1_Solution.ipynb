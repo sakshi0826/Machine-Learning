{
 "cells": [
  {
   "cell_type": "markdown",
   "metadata": {},
   "source": [
    "<p><span style=\"font-size:26pt;font-family:Arial;color:#000000;background-color:transparent;font-weight:400;font-style:normal;font-variant:normal;text-decoration:none;vertical-align:baseline;white-space:pre;white-space:pre-wrap;\">Exercise 1</span></p>\n",
    "<p><br></p>"
   ]
  },
  {
   "cell_type": "markdown",
   "metadata": {},
   "source": [
    "<p><span style=\"font-size:13.999999999999998pt;font-family:Arial;color:#000000;background-color:transparent;font-weight:400;font-style:normal;font-variant:normal;text-decoration:none;vertical-align:baseline;white-space:pre;white-space:pre-wrap;\">In this exercise, we&rsquo;ll practice using single linkage clustering to segment data.</span></p>"
   ]
  },
  {
   "cell_type": "markdown",
   "metadata": {},
   "source": [
    "<hr style=\"height:2px;border-width:0;color:black;background-color:black\">"
   ]
  },
  {
   "cell_type": "markdown",
   "metadata": {},
   "source": [
    "Run the code below to download the bank marketing dataset and read it as a Pandas dataframe.\n",
    "\n",
    "This dataset represents a marketing campaign made by a Portuguese bank where they contacted a number of their customers and asked their personal consumer price index score and consumer confidence index score. Using this data, the bank believes they can segment their customers for an upcoming marketing campaign.\n",
    "    \n",
    "We'll do that by using single linkage clustering to segment the data.</span></p>"
   ]
  },
  {
   "cell_type": "code",
   "execution_count": 1,
   "metadata": {},
   "outputs": [
    {
     "data": {
      "text/html": [
       "<div>\n",
       "<style scoped>\n",
       "    .dataframe tbody tr th:only-of-type {\n",
       "        vertical-align: middle;\n",
       "    }\n",
       "\n",
       "    .dataframe tbody tr th {\n",
       "        vertical-align: top;\n",
       "    }\n",
       "\n",
       "    .dataframe thead th {\n",
       "        text-align: right;\n",
       "    }\n",
       "</style>\n",
       "<table border=\"1\" class=\"dataframe\">\n",
       "  <thead>\n",
       "    <tr style=\"text-align: right;\">\n",
       "      <th></th>\n",
       "      <th>consumer_price_index</th>\n",
       "      <th>consumer_confidence_index</th>\n",
       "    </tr>\n",
       "    <tr>\n",
       "      <th>Customer ID</th>\n",
       "      <th></th>\n",
       "      <th></th>\n",
       "    </tr>\n",
       "  </thead>\n",
       "  <tbody>\n",
       "    <tr>\n",
       "      <th>1</th>\n",
       "      <td>93.994</td>\n",
       "      <td>-36.4</td>\n",
       "    </tr>\n",
       "    <tr>\n",
       "      <th>2</th>\n",
       "      <td>93.994</td>\n",
       "      <td>-36.4</td>\n",
       "    </tr>\n",
       "    <tr>\n",
       "      <th>3</th>\n",
       "      <td>93.994</td>\n",
       "      <td>-36.4</td>\n",
       "    </tr>\n",
       "    <tr>\n",
       "      <th>4</th>\n",
       "      <td>93.994</td>\n",
       "      <td>-36.4</td>\n",
       "    </tr>\n",
       "    <tr>\n",
       "      <th>5</th>\n",
       "      <td>93.994</td>\n",
       "      <td>-36.4</td>\n",
       "    </tr>\n",
       "  </tbody>\n",
       "</table>\n",
       "</div>"
      ],
      "text/plain": [
       "             consumer_price_index  consumer_confidence_index\n",
       "Customer ID                                                 \n",
       "1                          93.994                      -36.4\n",
       "2                          93.994                      -36.4\n",
       "3                          93.994                      -36.4\n",
       "4                          93.994                      -36.4\n",
       "5                          93.994                      -36.4"
      ]
     },
     "execution_count": 1,
     "metadata": {},
     "output_type": "execute_result"
    }
   ],
   "source": [
    "import pandas as pd\n",
    "from urllib.request import urlretrieve\n",
    "\n",
    "url = \"https://ac-101708228-virtuoso-prod.s3.amazonaws.com/uploads/download/125/bank_marketing.csv\"\n",
    "\n",
    "urlretrieve(url, \"bank_marketing.csv\")\n",
    "\n",
    "bank_marketing_dataset = pd.read_csv(\"bank_marketing.csv\",index_col=0)\n",
    "bank_marketing_dataset.head()"
   ]
  },
  {
   "cell_type": "markdown",
   "metadata": {},
   "source": [
    "<hr style=\"height:2px;border-width:0;color:black;background-color:black\">"
   ]
  },
  {
   "cell_type": "markdown",
   "metadata": {},
   "source": [
    "Scale the dataset."
   ]
  },
  {
   "cell_type": "code",
   "execution_count": 2,
   "metadata": {},
   "outputs": [],
   "source": [
    "#Imports the Min Max Scaler\n",
    "#This is more versatile than Absolute Max Scaling\n",
    "#But doesn't require the data to be normally distributed\n",
    "from sklearn.preprocessing import MinMaxScaler\n",
    "\n",
    "#min_max_scaler contains the scaled dataset\n",
    "#But this outputs the data as a NumPy array, so we lose the column names\n",
    "min_max_scaler = MinMaxScaler().fit_transform(bank_marketing_dataset)\n",
    "#This stores the dataset in a Pandas dataframe\n",
    "#It uses the column names from the original dataset\n",
    "scaled_dataset = pd.DataFrame(min_max_scaler, columns=bank_marketing_dataset.columns)"
   ]
  },
  {
   "cell_type": "markdown",
   "metadata": {},
   "source": [
    "<hr style=\"height:2px;border-width:0;color:black;background-color:black\">"
   ]
  },
  {
   "cell_type": "markdown",
   "metadata": {},
   "source": [
    "Plot the scaled data in a scatter plot, ensuring that the axes are scaled. Determine the number of clusters."
   ]
  },
  {
   "cell_type": "code",
   "execution_count": 3,
   "metadata": {},
   "outputs": [
    {
     "data": {
      "image/png": "[encoded data removed]",
      "text/plain": [
       "<Figure size 432x288 with 1 Axes>"
      ]
     },
     "metadata": {
      "needs_background": "light"
     },
     "output_type": "display_data"
    }
   ],
   "source": [
    "#Before we plot the data we need to import the matplotlib library\n",
    "import matplotlib.pyplot as plt\n",
    "\n",
    "#We use the scatter function to create a scatter plot\n",
    "plt.scatter(scaled_dataset[\"consumer_price_index\"],scaled_dataset[\"consumer_confidence_index\"])\n",
    "#We use the axis function to ensure that the axes are scaled\n",
    "#This lets us see the \"true\" shape of the data\n",
    "plt.axis(\"scaled\")\n",
    "plt.show()\n",
    "#Based on the result below, it looks like there are 4 distinct clusters"
   ]
  },
  {
   "cell_type": "markdown",
   "metadata": {},
   "source": [
    "<hr style=\"height:2px;border-width:0;color:black;background-color:black\">"
   ]
  },
  {
   "cell_type": "markdown",
   "metadata": {},
   "source": [
    "Perform single linkage clustering on the data."
   ]
  },
  {
   "cell_type": "code",
   "execution_count": 4,
   "metadata": {},
   "outputs": [],
   "source": [
    "#Imports the AgglomerativeClustering function\n",
    "from sklearn.cluster import AgglomerativeClustering\n",
    "\n",
    "#Stores the AgglomerativeClustering and sets parameters\n",
    "#n_clusters was set to 4 as it looked like there were 4 clusters in the scatter plot\n",
    "slc = AgglomerativeClustering(n_clusters=4,linkage='single')\n",
    "#The cluster variable stores the list of cluster assignments for each data point\n",
    "cluster = slc.fit_predict(scaled_dataset)"
   ]
  },
  {
   "cell_type": "markdown",
   "metadata": {},
   "source": [
    "<hr style=\"height:2px;border-width:0;color:black;background-color:black\">"
   ]
  },
  {
   "cell_type": "markdown",
   "metadata": {},
   "source": [
    "Plot the data on the unscaled dataset (but don't scale the axes) to see how the SLC algorithm clustered the data."
   ]
  },
  {
   "cell_type": "code",
   "execution_count": 5,
   "metadata": {},
   "outputs": [
    {
     "data": {
      "image/png": "[encoded data removed]",
      "text/plain": [
       "<Figure size 432x288 with 1 Axes>"
      ]
     },
     "metadata": {
      "needs_background": "light"
     },
     "output_type": "display_data"
    }
   ],
   "source": [
    "#We use the scatter function again on the original dataset\n",
    "#This time we set the c variable to match the cluster variable\n",
    "#This ensures that the color of the data points matches the clusters\n",
    "plt.scatter(bank_marketing_dataset[\"consumer_price_index\"],bank_marketing_dataset[\"consumer_confidence_index\"],c=cluster)\n",
    "plt.show()\n",
    "#In the plot below, it looks like SLC was quite effective at separating the clusters"
   ]
  }
 ],
 "metadata": {
  "kernelspec": {
   "display_name": "Python 3",
   "language": "python",
   "name": "python3"
  },
  "language_info": {
   "codemirror_mode": {
    "name": "ipython",
    "version": 3
   },
   "file_extension": ".py",
   "mimetype": "text/x-python",
   "name": "python",
   "nbconvert_exporter": "python",
   "pygments_lexer": "ipython3",
   "version": "3.8.8"
  }
 },
 "nbformat": 4,
 "nbformat_minor": 2
}
