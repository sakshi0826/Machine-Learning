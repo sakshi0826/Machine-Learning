{
 "cells": [
  {
   "cell_type": "markdown",
   "metadata": {},
   "source": [
    "# Linear Regression"
   ]
  },
  {
   "cell_type": "markdown",
   "metadata": {},
   "source": [
    "<p dir=\"ltr\" style=\"line-height:1.38;background-color:#ffffff;margin-top:0pt;margin-bottom:0pt;\"><span style=\"font-size:10.5pt;font-family:Arial;color:#000000;background-color:transparent;font-weight:400;font-style:normal;font-variant:normal;text-decoration:none;vertical-align:baseline;white-space:pre;white-space:pre-wrap;\">Download the&nbsp;</span><a href=\"https://ac-101708228-virtuoso-prod.s3.amazonaws.com/uploads/download/126/startups.csv\" style=\"text-decoration:none;\"><span style=\"font-size:10.5pt;font-family:Arial;color:#1155cc;background-color:transparent;font-weight:400;font-style:normal;font-variant:normal;text-decoration:underline;-webkit-text-decoration-skip:none;text-decoration-skip-ink:none;vertical-align:baseline;white-space:pre;white-space:pre-wrap;\">startups dataset</span></a><span style=\"font-size:10.5pt;font-family:Arial;color:#000000;background-color:transparent;font-weight:400;font-style:normal;font-variant:normal;text-decoration:none;vertical-align:baseline;white-space:pre;white-space:pre-wrap;\">&nbsp;and save it to the same location as this script. Then run the code below to read this dataset.</span></p>\n",
    "<p dir=\"ltr\" style=\"line-height:1.38;background-color:#ffffff;margin-top:0pt;margin-bottom:0pt;padding:11pt 0pt 0pt 0pt;\"><span style=\"font-size:10.5pt;font-family:Arial;color:#000000;background-color:transparent;font-weight:400;font-style:normal;font-variant:normal;text-decoration:none;vertical-align:baseline;white-space:pre;white-space:pre-wrap;\">This dataset captures key information about startups, including R&amp;D spend, Administration cost, Marketing spend, state and profit. We&rsquo;ll use this dataset in this course&rsquo;s exercise to build a regression model that we can use to predict the profit growth from marketing expenditure.</span></p>\n",
    "<p dir=\"ltr\" style=\"line-height:1.38;background-color:#ffffff;margin-top:0pt;margin-bottom:0pt;padding:11pt 0pt 0pt 0pt;\"><span style=\"font-size:10.5pt;font-family:Arial;color:#000000;background-color:transparent;font-weight:400;font-style:normal;font-variant:normal;text-decoration:none;vertical-align:baseline;white-space:pre;white-space:pre-wrap;\">We&rsquo;ve already updated the code to reflect the changes that were made after the previous exercise.</span></p>\n",
    "\n",
    "\n",
    "\n"
   ]
  },
  {
   "cell_type": "code",
   "execution_count": 1,
   "metadata": {},
   "outputs": [
    {
     "data": {
      "text/html": [
       "<div>\n",
       "<style scoped>\n",
       "    .dataframe tbody tr th:only-of-type {\n",
       "        vertical-align: middle;\n",
       "    }\n",
       "\n",
       "    .dataframe tbody tr th {\n",
       "        vertical-align: top;\n",
       "    }\n",
       "\n",
       "    .dataframe thead th {\n",
       "        text-align: right;\n",
       "    }\n",
       "</style>\n",
       "<table border=\"1\" class=\"dataframe\">\n",
       "  <thead>\n",
       "    <tr style=\"text-align: right;\">\n",
       "      <th></th>\n",
       "      <th>R&amp;D Spend</th>\n",
       "      <th>Administration</th>\n",
       "      <th>Marketing Spend</th>\n",
       "      <th>State</th>\n",
       "      <th>Profit</th>\n",
       "    </tr>\n",
       "    <tr>\n",
       "      <th>Startup ID</th>\n",
       "      <th></th>\n",
       "      <th></th>\n",
       "      <th></th>\n",
       "      <th></th>\n",
       "      <th></th>\n",
       "    </tr>\n",
       "  </thead>\n",
       "  <tbody>\n",
       "    <tr>\n",
       "      <th>1</th>\n",
       "      <td>165349.20</td>\n",
       "      <td>136897.80</td>\n",
       "      <td>471784.10</td>\n",
       "      <td>New York</td>\n",
       "      <td>192261.83</td>\n",
       "    </tr>\n",
       "    <tr>\n",
       "      <th>2</th>\n",
       "      <td>162597.70</td>\n",
       "      <td>151377.59</td>\n",
       "      <td>443898.53</td>\n",
       "      <td>California</td>\n",
       "      <td>191792.06</td>\n",
       "    </tr>\n",
       "    <tr>\n",
       "      <th>3</th>\n",
       "      <td>153441.51</td>\n",
       "      <td>101145.55</td>\n",
       "      <td>407934.54</td>\n",
       "      <td>Florida</td>\n",
       "      <td>191050.39</td>\n",
       "    </tr>\n",
       "    <tr>\n",
       "      <th>4</th>\n",
       "      <td>144372.41</td>\n",
       "      <td>118671.85</td>\n",
       "      <td>383199.62</td>\n",
       "      <td>New York</td>\n",
       "      <td>182901.99</td>\n",
       "    </tr>\n",
       "    <tr>\n",
       "      <th>5</th>\n",
       "      <td>142107.34</td>\n",
       "      <td>91391.77</td>\n",
       "      <td>366168.42</td>\n",
       "      <td>Florida</td>\n",
       "      <td>166187.94</td>\n",
       "    </tr>\n",
       "  </tbody>\n",
       "</table>\n",
       "</div>"
      ],
      "text/plain": [
       "            R&D Spend  Administration  Marketing Spend       State     Profit\n",
       "Startup ID                                                                   \n",
       "1           165349.20       136897.80        471784.10    New York  192261.83\n",
       "2           162597.70       151377.59        443898.53  California  191792.06\n",
       "3           153441.51       101145.55        407934.54     Florida  191050.39\n",
       "4           144372.41       118671.85        383199.62    New York  182901.99\n",
       "5           142107.34        91391.77        366168.42     Florida  166187.94"
      ]
     },
     "execution_count": 1,
     "metadata": {},
     "output_type": "execute_result"
    }
   ],
   "source": [
    "import pandas as pd\n",
    "\n",
    "startups=pd.read_csv(\"Startups.csv\", index_col = 0)\n",
    "startups.head()"
   ]
  },
  {
   "cell_type": "code",
   "execution_count": 2,
   "metadata": {},
   "outputs": [
    {
     "data": {
      "text/html": [
       "<div>\n",
       "<style scoped>\n",
       "    .dataframe tbody tr th:only-of-type {\n",
       "        vertical-align: middle;\n",
       "    }\n",
       "\n",
       "    .dataframe tbody tr th {\n",
       "        vertical-align: top;\n",
       "    }\n",
       "\n",
       "    .dataframe thead th {\n",
       "        text-align: right;\n",
       "    }\n",
       "</style>\n",
       "<table border=\"1\" class=\"dataframe\">\n",
       "  <thead>\n",
       "    <tr style=\"text-align: right;\">\n",
       "      <th></th>\n",
       "      <th>R&amp;D Spend</th>\n",
       "      <th>Administration</th>\n",
       "      <th>Marketing Spend</th>\n",
       "      <th>State_Florida</th>\n",
       "      <th>State_New York</th>\n",
       "    </tr>\n",
       "    <tr>\n",
       "      <th>Startup ID</th>\n",
       "      <th></th>\n",
       "      <th></th>\n",
       "      <th></th>\n",
       "      <th></th>\n",
       "      <th></th>\n",
       "    </tr>\n",
       "  </thead>\n",
       "  <tbody>\n",
       "    <tr>\n",
       "      <th>1</th>\n",
       "      <td>165349.20</td>\n",
       "      <td>136897.80</td>\n",
       "      <td>471784.10</td>\n",
       "      <td>0</td>\n",
       "      <td>1</td>\n",
       "    </tr>\n",
       "    <tr>\n",
       "      <th>2</th>\n",
       "      <td>162597.70</td>\n",
       "      <td>151377.59</td>\n",
       "      <td>443898.53</td>\n",
       "      <td>0</td>\n",
       "      <td>0</td>\n",
       "    </tr>\n",
       "    <tr>\n",
       "      <th>3</th>\n",
       "      <td>153441.51</td>\n",
       "      <td>101145.55</td>\n",
       "      <td>407934.54</td>\n",
       "      <td>1</td>\n",
       "      <td>0</td>\n",
       "    </tr>\n",
       "    <tr>\n",
       "      <th>4</th>\n",
       "      <td>144372.41</td>\n",
       "      <td>118671.85</td>\n",
       "      <td>383199.62</td>\n",
       "      <td>0</td>\n",
       "      <td>1</td>\n",
       "    </tr>\n",
       "    <tr>\n",
       "      <th>5</th>\n",
       "      <td>142107.34</td>\n",
       "      <td>91391.77</td>\n",
       "      <td>366168.42</td>\n",
       "      <td>1</td>\n",
       "      <td>0</td>\n",
       "    </tr>\n",
       "  </tbody>\n",
       "</table>\n",
       "</div>"
      ],
      "text/plain": [
       "            R&D Spend  Administration  Marketing Spend  State_Florida  \\\n",
       "Startup ID                                                              \n",
       "1           165349.20       136897.80        471784.10              0   \n",
       "2           162597.70       151377.59        443898.53              0   \n",
       "3           153441.51       101145.55        407934.54              1   \n",
       "4           144372.41       118671.85        383199.62              0   \n",
       "5           142107.34        91391.77        366168.42              1   \n",
       "\n",
       "            State_New York  \n",
       "Startup ID                  \n",
       "1                        1  \n",
       "2                        0  \n",
       "3                        0  \n",
       "4                        1  \n",
       "5                        0  "
      ]
     },
     "execution_count": 2,
     "metadata": {},
     "output_type": "execute_result"
    }
   ],
   "source": [
    "response = startups[\"Profit\"]\n",
    "predictors = startups.iloc[:,:4]\n",
    "predictors=pd.get_dummies(predictors,drop_first=True)\n",
    "predictors.head()"
   ]
  },
  {
   "cell_type": "markdown",
   "metadata": {},
   "source": [
    "<hr style=\"height:2px;border-width:0;color:black;background-color:black\">"
   ]
  },
  {
   "cell_type": "markdown",
   "metadata": {},
   "source": [
    "Using the .corr() method, create a correlation matrix on our entire data (response and predictors). This will enable us to see the relationship between each feature/column in the data."
   ]
  },
  {
   "cell_type": "code",
   "execution_count": 3,
   "metadata": {},
   "outputs": [
    {
     "data": {
      "text/html": [
       "<div>\n",
       "<style scoped>\n",
       "    .dataframe tbody tr th:only-of-type {\n",
       "        vertical-align: middle;\n",
       "    }\n",
       "\n",
       "    .dataframe tbody tr th {\n",
       "        vertical-align: top;\n",
       "    }\n",
       "\n",
       "    .dataframe thead th {\n",
       "        text-align: right;\n",
       "    }\n",
       "</style>\n",
       "<table border=\"1\" class=\"dataframe\">\n",
       "  <thead>\n",
       "    <tr style=\"text-align: right;\">\n",
       "      <th></th>\n",
       "      <th>R&amp;D Spend</th>\n",
       "      <th>Administration</th>\n",
       "      <th>Marketing Spend</th>\n",
       "      <th>Profit</th>\n",
       "    </tr>\n",
       "  </thead>\n",
       "  <tbody>\n",
       "    <tr>\n",
       "      <th>R&amp;D Spend</th>\n",
       "      <td>1.000000</td>\n",
       "      <td>0.241955</td>\n",
       "      <td>0.724248</td>\n",
       "      <td>0.972900</td>\n",
       "    </tr>\n",
       "    <tr>\n",
       "      <th>Administration</th>\n",
       "      <td>0.241955</td>\n",
       "      <td>1.000000</td>\n",
       "      <td>-0.032154</td>\n",
       "      <td>0.200717</td>\n",
       "    </tr>\n",
       "    <tr>\n",
       "      <th>Marketing Spend</th>\n",
       "      <td>0.724248</td>\n",
       "      <td>-0.032154</td>\n",
       "      <td>1.000000</td>\n",
       "      <td>0.747766</td>\n",
       "    </tr>\n",
       "    <tr>\n",
       "      <th>Profit</th>\n",
       "      <td>0.972900</td>\n",
       "      <td>0.200717</td>\n",
       "      <td>0.747766</td>\n",
       "      <td>1.000000</td>\n",
       "    </tr>\n",
       "  </tbody>\n",
       "</table>\n",
       "</div>"
      ],
      "text/plain": [
       "                 R&D Spend  Administration  Marketing Spend    Profit\n",
       "R&D Spend         1.000000        0.241955         0.724248  0.972900\n",
       "Administration    0.241955        1.000000        -0.032154  0.200717\n",
       "Marketing Spend   0.724248       -0.032154         1.000000  0.747766\n",
       "Profit            0.972900        0.200717         0.747766  1.000000"
      ]
     },
     "execution_count": 3,
     "metadata": {},
     "output_type": "execute_result"
    }
   ],
   "source": [
    "#We'll start by specifying the startups variable\n",
    "#This is because it contains the predictors and response variables\n",
    "#It doesn't contain dummy variables, but this is okay as binary variables always have a linear relationship\n",
    "#We then use the .corr() method to create the matrix\n",
    "correlation_matrix = startups.corr()\n",
    "correlation_matrix"
   ]
  },
  {
   "cell_type": "markdown",
   "metadata": {},
   "source": [
    "<hr style=\"height:2px;border-width:0;color:black;background-color:black\">"
   ]
  },
  {
   "cell_type": "markdown",
   "metadata": {},
   "source": [
    "Using the heatmap function from the seaborn library, convert the correlation matrix into a heatmap. This will make it easier to view the correlation matrix.\n",
    "\n",
    "Ensure that annotations have been enabled. Ensure the vertical axis ticks range from -1 to 1."
   ]
  },
  {
   "cell_type": "code",
   "execution_count": 4,
   "metadata": {},
   "outputs": [
    {
     "data": {
      "text/plain": [
       "<AxesSubplot:>"
      ]
     },
     "execution_count": 4,
     "metadata": {},
     "output_type": "execute_result"
    },
    {
     "data": {
      "image/png": "[encoded data removed]",
      "text/plain": [
       "<Figure size 432x288 with 2 Axes>"
      ]
     },
     "metadata": {
      "needs_background": "light"
     },
     "output_type": "display_data"
    }
   ],
   "source": [
    "#We'll start by importing the seaborn library using the alias sns\n",
    "import seaborn as sns\n",
    "\n",
    "#We'll then call the heatmap function from the seaborn library\n",
    "#For the first argument, we'll specify the correlation_matrix variable from the previous cell\n",
    "#We'll then set annot=True to enable annotations\n",
    "#We'll set vmin=-1 and vmax to equal 1 to ensure that the axis ticks range from -1 to 1\n",
    "sns.heatmap(correlation_matrix,annot=True,vmin=-1,vmax=1)"
   ]
  },
  {
   "cell_type": "markdown",
   "metadata": {},
   "source": [
    "<hr style=\"height:2px;border-width:0;color:black;background-color:black\">"
   ]
  },
  {
   "cell_type": "markdown",
   "metadata": {},
   "source": [
    "Examine the heatmap above.\n",
    "\n",
    "Check the relationships between the response variable and each predictor variable? Do any of these R scores fall within the range of -0.25 to 0.25? If so, remove that column from the predictors dataframe. This is because these columns do not have a strong enough relationship with the response to have enough predictive power for our model.\n",
    "\n",
    "Check the relationships between each of the predictor variables? Do any of these R scores fall outside the range of -0.8 to 0.8? If so, remove one of those columns from the predictors dataframe. This is because these columns are too closely related, so it's likely they're actually measuring the same thing. Keeping them both in is akin to double counting that factor."
   ]
  },
  {
   "cell_type": "code",
   "execution_count": 5,
   "metadata": {},
   "outputs": [
    {
     "data": {
      "text/html": [
       "<div>\n",
       "<style scoped>\n",
       "    .dataframe tbody tr th:only-of-type {\n",
       "        vertical-align: middle;\n",
       "    }\n",
       "\n",
       "    .dataframe tbody tr th {\n",
       "        vertical-align: top;\n",
       "    }\n",
       "\n",
       "    .dataframe thead th {\n",
       "        text-align: right;\n",
       "    }\n",
       "</style>\n",
       "<table border=\"1\" class=\"dataframe\">\n",
       "  <thead>\n",
       "    <tr style=\"text-align: right;\">\n",
       "      <th></th>\n",
       "      <th>R&amp;D Spend</th>\n",
       "      <th>Marketing Spend</th>\n",
       "      <th>State_Florida</th>\n",
       "      <th>State_New York</th>\n",
       "    </tr>\n",
       "    <tr>\n",
       "      <th>Startup ID</th>\n",
       "      <th></th>\n",
       "      <th></th>\n",
       "      <th></th>\n",
       "      <th></th>\n",
       "    </tr>\n",
       "  </thead>\n",
       "  <tbody>\n",
       "    <tr>\n",
       "      <th>1</th>\n",
       "      <td>165349.20</td>\n",
       "      <td>471784.10</td>\n",
       "      <td>0</td>\n",
       "      <td>1</td>\n",
       "    </tr>\n",
       "    <tr>\n",
       "      <th>2</th>\n",
       "      <td>162597.70</td>\n",
       "      <td>443898.53</td>\n",
       "      <td>0</td>\n",
       "      <td>0</td>\n",
       "    </tr>\n",
       "    <tr>\n",
       "      <th>3</th>\n",
       "      <td>153441.51</td>\n",
       "      <td>407934.54</td>\n",
       "      <td>1</td>\n",
       "      <td>0</td>\n",
       "    </tr>\n",
       "    <tr>\n",
       "      <th>4</th>\n",
       "      <td>144372.41</td>\n",
       "      <td>383199.62</td>\n",
       "      <td>0</td>\n",
       "      <td>1</td>\n",
       "    </tr>\n",
       "    <tr>\n",
       "      <th>5</th>\n",
       "      <td>142107.34</td>\n",
       "      <td>366168.42</td>\n",
       "      <td>1</td>\n",
       "      <td>0</td>\n",
       "    </tr>\n",
       "  </tbody>\n",
       "</table>\n",
       "</div>"
      ],
      "text/plain": [
       "            R&D Spend  Marketing Spend  State_Florida  State_New York\n",
       "Startup ID                                                           \n",
       "1           165349.20        471784.10              0               1\n",
       "2           162597.70        443898.53              0               0\n",
       "3           153441.51        407934.54              1               0\n",
       "4           144372.41        383199.62              0               1\n",
       "5           142107.34        366168.42              1               0"
      ]
     },
     "execution_count": 5,
     "metadata": {},
     "output_type": "execute_result"
    }
   ],
   "source": [
    "#We remove the Administration column because its R score with Profit is just 0.2\n",
    "#This is below the 0.25 threshold\n",
    "#This is regarded as being the minimum R score for a predictor variable to be useful to regression\n",
    "predictors = predictors.drop('Administration', axis=1)\n",
    "predictors.head()\n",
    "\n",
    "#No two predictors have an R score outside the range of -0.8 to 0.8\n",
    "#This means there's no multicollinearity, so we don't need to remove any other columns"
   ]
  },
  {
   "cell_type": "markdown",
   "metadata": {},
   "source": [
    "<hr style=\"height:2px;border-width:0;color:black;background-color:black\">"
   ]
  },
  {
   "cell_type": "markdown",
   "metadata": {},
   "source": [
    "Import the linear_model portion of the sklearn library.\n",
    "\n",
    "Instantiate the LinearRegression() function by setting it as the value of a variable called linear_regression. This will set us up to use linear regression in Python."
   ]
  },
  {
   "cell_type": "code",
   "execution_count": 6,
   "metadata": {},
   "outputs": [],
   "source": [
    "#Imports the linear_model portion of the sklearn library, using the alias skl\n",
    "import sklearn.linear_model as skl\n",
    "\n",
    "#Instantiates the LinearRegression() function\n",
    "#This means we set the value of a variable to equal the LinearRegression() function\n",
    "#This is because the .fit(), .coef_, and .intercept_ methods can only be applied to a variable\n",
    "linear_regression=skl.LinearRegression()"
   ]
  },
  {
   "cell_type": "markdown",
   "metadata": {},
   "source": [
    "<hr style=\"height:2px;border-width:0;color:black;background-color:black\">"
   ]
  },
  {
   "cell_type": "markdown",
   "metadata": {},
   "source": [
    "Use the .fit() method on the linear_regression variable we created in the cell above. In the arguments for the .fit() method, specify the predictor variables the response variable. This code will let us train the model using our data."
   ]
  },
  {
   "cell_type": "code",
   "execution_count": 7,
   "metadata": {},
   "outputs": [
    {
     "data": {
      "text/plain": [
       "LinearRegression()"
      ]
     },
     "execution_count": 7,
     "metadata": {},
     "output_type": "execute_result"
    }
   ],
   "source": [
    "#First we specify the linear_regression variable that contains the LinearRegression() function\n",
    "#Then we apply the .fit() method\n",
    "#We'll specify the predictors variable and then the response variable\n",
    "linear_regression.fit(predictors,response)"
   ]
  },
  {
   "cell_type": "markdown",
   "metadata": {},
   "source": [
    "<hr style=\"height:2px;border-width:0;color:black;background-color:black\">"
   ]
  },
  {
   "cell_type": "markdown",
   "metadata": {},
   "source": [
    "Use .coef_ and .intercept_ to view the coefficients and intercept for our regression model. These are the values we can use to manually calculate a regression prediction, if we want to."
   ]
  },
  {
   "cell_type": "code",
   "execution_count": 8,
   "metadata": {},
   "outputs": [
    {
     "name": "stdout",
     "output_type": "stream",
     "text": [
      "[ 7.96742691e-01  2.97505939e-02  1.40786946e+02 -1.95234355e+01]\n",
      "46958.94498371637\n"
     ]
    }
   ],
   "source": [
    "#We start by applying .coef_ to the linear_regression variable that contains the LinearRegression() function\n",
    "#We then do the same with .intercept_\n",
    "#We'll then wrap both in print functions so we can view the outputs of both\n",
    "print(linear_regression.coef_)\n",
    "print(linear_regression.intercept_)"
   ]
  },
  {
   "cell_type": "markdown",
   "metadata": {},
   "source": [
    "<hr style=\"height:2px;border-width:0;color:black;background-color:black\">"
   ]
  },
  {
   "cell_type": "markdown",
   "metadata": {},
   "source": [
    "Use the .score() method to get the R-Squared of the regression model. This metric gives us a good indication of how good our model is."
   ]
  },
  {
   "cell_type": "code",
   "execution_count": 9,
   "metadata": {},
   "outputs": [
    {
     "data": {
      "text/plain": [
       "0.950453304509085"
      ]
     },
     "execution_count": 9,
     "metadata": {},
     "output_type": "execute_result"
    }
   ],
   "source": [
    "#The .score method is used on the linear_regression variable\n",
    "#For arguments, we need to specify the predictors and the response, in that order\n",
    "r_squared=linear_regression.score(predictors, response)\n",
    "r_squared"
   ]
  },
  {
   "cell_type": "markdown",
   "metadata": {},
   "source": [
    "<hr style=\"height:2px;border-width:0;color:black;background-color:black\">"
   ]
  },
  {
   "cell_type": "markdown",
   "metadata": {},
   "source": [
    "Use the .predict() method to use our regression model to create predictions for profit."
   ]
  },
  {
   "cell_type": "code",
   "execution_count": 10,
   "metadata": {},
   "outputs": [
    {
     "data": {
      "text/plain": [
       "array([192716.0452252 , 189713.71887754, 181489.42830458, 173367.5002271 ,\n",
       "       171216.44432683, 162806.71865517, 158012.4800244 , 160549.33819417,\n",
       "       152251.47371715, 154298.49345059, 135115.90786232, 134598.64195384,\n",
       "       129317.86038055, 127770.14103889, 150295.04340472, 145973.26903398,\n",
       "       116979.77243539, 130763.57544254, 128974.23689736, 115793.68584176,\n",
       "       116599.09593794, 118313.02119203, 115078.28489041, 109972.83231529,\n",
       "       112505.85745725, 102584.54989972, 111105.52769009, 114898.05290112,\n",
       "       103240.77681263, 102397.53863722,  99204.58924072,  98273.93017884,\n",
       "        98850.55426385,  97699.64404089,  90219.93279216,  89715.0275025 ,\n",
       "        75921.01554709,  87933.09778899,  68568.94627633,  82886.48909989,\n",
       "        75009.52104682,  74216.31336716,  70197.80408633,  60350.6612502 ,\n",
       "        65471.87197074,  47792.99053796,  56987.14672519,  46958.94498372,\n",
       "        47371.29592367,  48302.8703492 ])"
      ]
     },
     "execution_count": 10,
     "metadata": {},
     "output_type": "execute_result"
    }
   ],
   "source": [
    "#Uses the .predict() method on the linear_regression variable\n",
    "#Takes just predictors as an argument\n",
    "#It doesn't need response\n",
    "#The output of this method is predictors for what response would be if we didn't already know\n",
    "predictions = linear_regression.predict(predictors)\n",
    "predictions"
   ]
  },
  {
   "cell_type": "markdown",
   "metadata": {},
   "source": [
    "<hr style=\"height:2px;border-width:0;color:black;background-color:black\">"
   ]
  },
  {
   "cell_type": "markdown",
   "metadata": {},
   "source": [
    "Calculate the model's error (aka residuals) by subtracting the predicted profit from actual profit. By having data about the model's error, we can determine if there are any faults in the model."
   ]
  },
  {
   "cell_type": "code",
   "execution_count": 11,
   "metadata": {},
   "outputs": [
    {
     "data": {
      "text/plain": [
       "Startup ID\n",
       "1      -454.215225\n",
       "2      2078.341122\n",
       "3      9560.961695\n",
       "4      9534.489773\n",
       "5     -5028.504327\n",
       "6     -5815.598655\n",
       "7     -1889.970024\n",
       "8     -4796.738194\n",
       "9       -39.703717\n",
       "10    -4538.533451\n",
       "11    11006.042138\n",
       "12     9660.758046\n",
       "13    12267.659619\n",
       "14     6537.208961\n",
       "15   -17692.393405\n",
       "16   -16056.229034\n",
       "17    10013.157565\n",
       "18    -5393.205443\n",
       "19    -4707.336897\n",
       "20     6983.174158\n",
       "21     1874.934062\n",
       "22    -7000.001192\n",
       "23    -4726.034890\n",
       "24    -1238.842315\n",
       "25    -3953.817457\n",
       "26     4819.790100\n",
       "27    -5371.987690\n",
       "28    -9889.742901\n",
       "29       41.603187\n",
       "30    -1392.898637\n",
       "31      733.000759\n",
       "32     -790.370179\n",
       "33    -1422.714264\n",
       "34     -920.724041\n",
       "35     6492.867208\n",
       "36     6764.482498\n",
       "37    14787.174453\n",
       "38     2016.042211\n",
       "39    12660.113724\n",
       "40    -1880.729100\n",
       "41     3230.388953\n",
       "42     3582.516633\n",
       "43     1300.685914\n",
       "44     9408.318750\n",
       "45     -271.541971\n",
       "46    17133.089462\n",
       "47    -7496.396725\n",
       "48    -4399.214984\n",
       "49   -11697.885924\n",
       "50   -33621.470349\n",
       "Name: Profit, dtype: float64"
      ]
     },
     "execution_count": 11,
     "metadata": {},
     "output_type": "execute_result"
    }
   ],
   "source": [
    "#We can easily do this by subtracting the response_predictions variable from the response variable\n",
    "error = response-predictions\n",
    "error"
   ]
  },
  {
   "cell_type": "markdown",
   "metadata": {},
   "source": [
    "<hr style=\"height:2px;border-width:0;color:black;background-color:black\">"
   ]
  },
  {
   "cell_type": "markdown",
   "metadata": {},
   "source": [
    "Use a histogram on the errors (aka residuals) to determine if they're normally distributed. If not, we'll have to reject this model."
   ]
  },
  {
   "cell_type": "code",
   "execution_count": 12,
   "metadata": {
    "scrolled": true
   },
   "outputs": [
    {
     "data": {
      "image/png": "[encoded data removed]",
      "text/plain": [
       "<Figure size 432x288 with 1 Axes>"
      ]
     },
     "metadata": {
      "needs_background": "light"
     },
     "output_type": "display_data"
    }
   ],
   "source": [
    "#We start by importing the pyplot portion of the MatPlotLib library using the alias plt\n",
    "import matplotlib.pyplot as plt\n",
    "\n",
    "#We then use the hist function on the error variable\n",
    "plt.hist(error)\n",
    "plt.show()\n",
    "\n",
    "#We can see that although not perfect, the error (aka residuals) is normally distributed\n",
    "#This means that our model doesn't need to be rejected for not meeting this requirement"
   ]
  },
  {
   "cell_type": "markdown",
   "metadata": {},
   "source": [
    "<hr style=\"height:2px;border-width:0;color:black;background-color:black\">"
   ]
  },
  {
   "cell_type": "markdown",
   "metadata": {},
   "source": [
    "Create a scatter plot comparing predictions to errors (aka residuals). Use this to determine if the residuals are homoscedastic  or heteroscedastic. If the residuals are well distributed across the chart, it means that the data is heteroscedastic that's good because it means that the model is equally accurate no matter what value it predicts."
   ]
  },
  {
   "cell_type": "code",
   "execution_count": 13,
   "metadata": {},
   "outputs": [
    {
     "data": {
      "image/png": "[encoded data removed]",
      "text/plain": [
       "<Figure size 432x288 with 1 Axes>"
      ]
     },
     "metadata": {
      "needs_background": "light"
     },
     "output_type": "display_data"
    }
   ],
   "source": [
    "plt.scatter(predictions,error)\n",
    "plt.title(\"Homoscedasticity \")\n",
    "plt.xlabel(\"Response Predictions\")\n",
    "plt.ylabel(\"Residuals\")\n",
    "plt.show()"
   ]
  }
 ],
 "metadata": {
  "kernelspec": {
   "display_name": "Python 3",
   "language": "python",
   "name": "python3"
  },
  "language_info": {
   "codemirror_mode": {
    "name": "ipython",
    "version": 3
   },
   "file_extension": ".py",
   "mimetype": "text/x-python",
   "name": "python",
   "nbconvert_exporter": "python",
   "pygments_lexer": "ipython3",
   "version": "3.8.8"
  }
 },
 "nbformat": 4,
 "nbformat_minor": 2
}
