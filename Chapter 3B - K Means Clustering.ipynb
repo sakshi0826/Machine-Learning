{
 "cells": [
  {
   "cell_type": "markdown",
   "metadata": {},
   "source": [
    "# K-Means Clustering"
   ]
  },
  {
   "cell_type": "markdown",
   "metadata": {},
   "source": [
    "<hr style=\"height:2px;border-width:0;color:black;background-color:black\">"
   ]
  },
  {
   "cell_type": "markdown",
   "metadata": {},
   "source": [
    "<p dir=\"ltr\" style=\"line-height:1.38;background-color:#ffffff;margin-top:0pt;margin-bottom:0pt;\"><span style=\"font-size:10.5pt;font-family:Arial;color:#000000;background-color:transparent;font-weight:400;font-style:normal;font-variant:normal;text-decoration:none;vertical-align:baseline;white-space:pre;white-space:pre-wrap;\">Download the&nbsp;</span><a href=\"https://ac-101708228-virtuoso-prod.s3.amazonaws.com/uploads/download/64/bank_marketing.csv\" style=\"text-decoration:none;\"><span style=\"font-size:10.5pt;font-family:Arial;color:#1155cc;background-color:transparent;font-weight:400;font-style:normal;font-variant:normal;text-decoration:underline;-webkit-text-decoration-skip:none;text-decoration-skip-ink:none;vertical-align:baseline;white-space:pre;white-space:pre-wrap;\">bank marketing dataset</span></a><span style=\"font-size:10.5pt;font-family:Arial;color:#000000;background-color:transparent;font-weight:400;font-style:normal;font-variant:normal;text-decoration:none;vertical-align:baseline;white-space:pre;white-space:pre-wrap;\">&nbsp;and save it to the same location as this script. Then run the code below to read this dataset.</span></p>\n",
    "<p dir=\"ltr\" style=\"line-height:1.38;background-color:#ffffff;margin-top:0pt;margin-bottom:0pt;padding:11pt 0pt 0pt 0pt;\"><span style=\"font-size:10.5pt;font-family:Arial;color:#000000;background-color:transparent;font-weight:400;font-style:normal;font-variant:normal;text-decoration:none;vertical-align:baseline;white-space:pre;white-space:pre-wrap;\">\n",
    "This dataset represents a marketing campaign made by a Portuguese bank where they contacted a number of people and tracked their personal details.\n",
    "    \n",
    "You'll use it to segment these customers into discrete groups using k-means analysis.</span></p>"
   ]
  },
  {
   "cell_type": "code",
   "execution_count": null,
   "metadata": {},
   "outputs": [],
   "source": [
    "import pandas as pd\n",
    "\n",
    "bank_marketing_dataset = pd.read_csv(\"bank_marketing.csv\")\n",
    "bank_marketing_dataset.head()"
   ]
  },
  {
   "cell_type": "markdown",
   "metadata": {},
   "source": [
    "<hr style=\"height:2px;border-width:0;color:black;background-color:black\">"
   ]
  },
  {
   "cell_type": "markdown",
   "metadata": {},
   "source": [
    "Use the scatter_matrix() function to create a matrix of scatter plots to see if there are any natural clusters in our data.\n",
    "\n",
    "Don't be afraid to make the judgment that there are no natural clusters when comparing any two columns."
   ]
  },
  {
   "cell_type": "code",
   "execution_count": null,
   "metadata": {},
   "outputs": [],
   "source": [
    "#We use the scatter_matrix() function from the plotting portion of the pandas library\n",
    "#For the first argument, we just specify the variable containing the dataframe\n",
    "#For the second argument, we can specify the figure size\n",
    "#This is down to personal choice, but I chose 15x15\n",
    "pd.plotting.scatter_matrix(bank_marketing_dataset,figsize=[20,20]);\n",
    "\n",
    "#If we look at the scatter plot below, we can see that none of these scatters show clear noticeable clusters\n",
    "#Some have faint natural clusters, but not really anything solid enough for us "
   ]
  },
  {
   "cell_type": "code",
   "execution_count": null,
   "metadata": {},
   "outputs": [],
   "source": [
    "#Below we use the get_dummies() function to convert categorical features to dummy features\n",
    "#We use the drop_first=True argument to automatically drop the first dummy variable from each category\n",
    "#This removes redundant data\n",
    "bank_marketing_dataset=pd.get_dummies(bank_marketing_dataset,drop_first=True)\n",
    "bank_marketing_dataset.head()"
   ]
  },
  {
   "cell_type": "markdown",
   "metadata": {},
   "source": [
    "<hr style=\"height:2px;border-width:0;color:black;background-color:black\">"
   ]
  },
  {
   "cell_type": "markdown",
   "metadata": {},
   "source": [
    "Create an elbow method chart to help determine the optimal number of clusters to choose for this dataset."
   ]
  },
  {
   "cell_type": "code",
   "execution_count": null,
   "metadata": {},
   "outputs": [],
   "source": [
    "from sklearn.cluster import KMeans\n",
    "import matplotlib.pyplot as plt\n",
    "elbow = []\n",
    "\n",
    "#First we set up the for loop to iterate 10 times\n",
    "for i in range(1,11):\n",
    "    #We then set the KMeans function to a variable\n",
    "    #We then set n_clusters to equal i\n",
    "    kmc = KMeans(n_clusters=i)\n",
    "    #We then use the .fit() method to fit the model \n",
    "    kmc.fit(bank_marketing_dataset)\n",
    "    #Then we append the error for that model to the elbow variable\n",
    "    elbow.append(kmc.inertia_)\n",
    "    print(i, elbow[i-1])\n",
    "\n",
    "plt.plot(range(1, 11), elbow)\n",
    "plt.title('Elbow Method')\n",
    "plt.xlabel('Number of clusters')\n",
    "plt.ylabel('Within Cluster Sum of Squares')\n",
    "plt.show()"
   ]
  },
  {
   "cell_type": "markdown",
   "metadata": {},
   "source": [
    "<hr style=\"height:2px;border-width:0;color:black;background-color:black\">"
   ]
  },
  {
   "cell_type": "markdown",
   "metadata": {},
   "source": [
    "Based on the elbow method chart above, set a value for K, build your k-means model, and output the cluster predictions. These predictions will tell you which segment each customer belongs to."
   ]
  },
  {
   "cell_type": "code",
   "execution_count": null,
   "metadata": {},
   "outputs": [],
   "source": [
    "#First we set a value for K\n",
    "#I chose 4 because the drop in error is more gradual from 5 onwards\n",
    "K=4\n",
    "\n",
    "#We then set the kmc variable to equal the KMeans function\n",
    "#The only parameter we need to set is n_clusters=K\n",
    "kmc = KMeans(n_clusters=K)\n",
    "#We wet the cluster variable to equal the output of the .fit_predict() method\n",
    "#This is applied to the kmc variable and takes our dataframe as an argument\n",
    "cluster = kmc.fit_predict(bank_marketing_dataset)\n",
    "\n",
    "bank_marketing_dataset[\"Cluster\"] = cluster\n",
    "bank_marketing_dataset.head()"
   ]
  },
  {
   "cell_type": "code",
   "execution_count": null,
   "metadata": {},
   "outputs": [],
   "source": [
    "bank_marketing_dataset[\"Cluster\"] = cluster\n",
    "bank_marketing_dataset.to_csv(\"bank_marketing_dataset_clusters.csv\")\n",
    "bank_marketing_dataset.head()"
   ]
  },
  {
   "cell_type": "code",
   "execution_count": null,
   "metadata": {},
   "outputs": [],
   "source": [
    "bank_marketing_dataset[\"Cluster\"].unique()"
   ]
  }
 ],
 "metadata": {
  "kernelspec": {
   "display_name": "Python 3",
   "language": "python",
   "name": "python3"
  },
  "language_info": {
   "codemirror_mode": {
    "name": "ipython",
    "version": 3
   },
   "file_extension": ".py",
   "mimetype": "text/x-python",
   "name": "python",
   "nbconvert_exporter": "python",
   "pygments_lexer": "ipython3",
   "version": "3.8.8"
  }
 },
 "nbformat": 4,
 "nbformat_minor": 2
}
