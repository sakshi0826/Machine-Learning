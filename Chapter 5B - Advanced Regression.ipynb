{
 "cells": [
  {
   "cell_type": "markdown",
   "metadata": {},
   "source": [
    "# 1. Decision Trees"
   ]
  },
  {
   "cell_type": "markdown",
   "metadata": {},
   "source": [
    "The code below loads dataset which captures key information about startups, including R&D spend, Administration cost, Marketing spend, State and Profit. We’ll use this dataset in the next few exercises to build and compare nonparametric regression models.\n",
    "\n",
    "It also stores the Profit column in the response variable and the remaining columns in the predictors variable. It then splits each of these into training and testing versions.\n",
    "\n",
    "Finally, it creates dummy variables for the State column.\n",
    "\n",
    "You'll use this data to build a regression model that predicts profit given expenditure on these factors.\n",
    "\n",
    "Run the code below to load this and create the variables mentioned above."
   ]
  },
  {
   "cell_type": "code",
   "execution_count": 1,
   "metadata": {},
   "outputs": [
    {
     "data": {
      "text/html": [
       "<div>\n",
       "<style scoped>\n",
       "    .dataframe tbody tr th:only-of-type {\n",
       "        vertical-align: middle;\n",
       "    }\n",
       "\n",
       "    .dataframe tbody tr th {\n",
       "        vertical-align: top;\n",
       "    }\n",
       "\n",
       "    .dataframe thead th {\n",
       "        text-align: right;\n",
       "    }\n",
       "</style>\n",
       "<table border=\"1\" class=\"dataframe\">\n",
       "  <thead>\n",
       "    <tr style=\"text-align: right;\">\n",
       "      <th></th>\n",
       "      <th>Startup ID</th>\n",
       "      <th>R&amp;D Spend</th>\n",
       "      <th>Administration</th>\n",
       "      <th>Marketing Spend</th>\n",
       "      <th>State</th>\n",
       "      <th>Profit</th>\n",
       "    </tr>\n",
       "  </thead>\n",
       "  <tbody>\n",
       "    <tr>\n",
       "      <th>0</th>\n",
       "      <td>1</td>\n",
       "      <td>165349.20</td>\n",
       "      <td>136897.80</td>\n",
       "      <td>471784.10</td>\n",
       "      <td>New York</td>\n",
       "      <td>192261.83</td>\n",
       "    </tr>\n",
       "    <tr>\n",
       "      <th>1</th>\n",
       "      <td>2</td>\n",
       "      <td>162597.70</td>\n",
       "      <td>151377.59</td>\n",
       "      <td>443898.53</td>\n",
       "      <td>California</td>\n",
       "      <td>191792.06</td>\n",
       "    </tr>\n",
       "    <tr>\n",
       "      <th>2</th>\n",
       "      <td>3</td>\n",
       "      <td>153441.51</td>\n",
       "      <td>101145.55</td>\n",
       "      <td>407934.54</td>\n",
       "      <td>Florida</td>\n",
       "      <td>191050.39</td>\n",
       "    </tr>\n",
       "    <tr>\n",
       "      <th>3</th>\n",
       "      <td>4</td>\n",
       "      <td>144372.41</td>\n",
       "      <td>118671.85</td>\n",
       "      <td>383199.62</td>\n",
       "      <td>New York</td>\n",
       "      <td>182901.99</td>\n",
       "    </tr>\n",
       "    <tr>\n",
       "      <th>4</th>\n",
       "      <td>5</td>\n",
       "      <td>142107.34</td>\n",
       "      <td>91391.77</td>\n",
       "      <td>366168.42</td>\n",
       "      <td>Florida</td>\n",
       "      <td>166187.94</td>\n",
       "    </tr>\n",
       "  </tbody>\n",
       "</table>\n",
       "</div>"
      ],
      "text/plain": [
       "   Startup ID  R&D Spend  Administration  Marketing Spend       State  \\\n",
       "0           1  165349.20       136897.80        471784.10    New York   \n",
       "1           2  162597.70       151377.59        443898.53  California   \n",
       "2           3  153441.51       101145.55        407934.54     Florida   \n",
       "3           4  144372.41       118671.85        383199.62    New York   \n",
       "4           5  142107.34        91391.77        366168.42     Florida   \n",
       "\n",
       "      Profit  \n",
       "0  192261.83  \n",
       "1  191792.06  \n",
       "2  191050.39  \n",
       "3  182901.99  \n",
       "4  166187.94  "
      ]
     },
     "execution_count": 1,
     "metadata": {},
     "output_type": "execute_result"
    }
   ],
   "source": [
    "import pandas as pd\n",
    "from urllib.request import urlretrieve\n",
    "\n",
    "#Reads in the dataset from a URL\n",
    "url = \"https://ac-101708228-virtuoso-prod.s3.amazonaws.com/uploads/download/60/startups\"\n",
    "urlretrieve(url, \"startups_dataset.csv\")\n",
    "startups = pd.read_csv(\"startups_dataset.csv\")\n",
    "\n",
    "response = startups[\"Profit\"]\n",
    "predictors = startups.drop(\"Profit\",axis=1)\n",
    "\n",
    "#Gets dummy variables for the State column\n",
    "predictors=pd.get_dummies(predictors,drop_first=True)\n",
    "\n",
    "#Gets training and testing versions of each dataset\n",
    "#Note that below we can assign multiple variables at once\n",
    "#This works because we're assigning 4 variables and the output of the function is a list with 4 elements\n",
    "from sklearn.model_selection import train_test_split\n",
    "p_train, p_test, r_train ,r_test= train_test_split(predictors, response, test_size=0.1, random_state=50)\n",
    "\n",
    "#Provides a preview of the whole dataset for reference\n",
    "startups.head()"
   ]
  },
  {
   "cell_type": "markdown",
   "metadata": {},
   "source": [
    "<hr style=\"height:2px;border-width:0;color:black;background-color:black\">"
   ]
  },
  {
   "cell_type": "markdown",
   "metadata": {},
   "source": [
    "Build a decision tree regression model that predicts the profit of a startup based on expenditure and location."
   ]
  },
  {
   "cell_type": "code",
   "execution_count": 2,
   "metadata": {},
   "outputs": [
    {
     "data": {
      "text/plain": [
       "DecisionTreeRegressor()"
      ]
     },
     "execution_count": 2,
     "metadata": {},
     "output_type": "execute_result"
    }
   ],
   "source": [
    "#First we import the function\n",
    "from sklearn.tree import DecisionTreeRegressor\n",
    "#Then we store it in a function, using the default configurations\n",
    "regressor = DecisionTreeRegressor()\n",
    "#Then we fit it using the training variables\n",
    "regressor.fit(p_train, r_train)"
   ]
  },
  {
   "cell_type": "markdown",
   "metadata": {},
   "source": [
    "<hr style=\"height:2px;border-width:0;color:black;background-color:black\">"
   ]
  },
  {
   "cell_type": "markdown",
   "metadata": {},
   "source": [
    "Create a variable called predictions that stores the model's predictions for each value in the testing version of the predictors variable."
   ]
  },
  {
   "cell_type": "code",
   "execution_count": 3,
   "metadata": {},
   "outputs": [],
   "source": [
    "#We can make these predictions by using the .predict() method\n",
    "predictions = regressor.predict(p_test)"
   ]
  },
  {
   "cell_type": "markdown",
   "metadata": {},
   "source": [
    "<hr style=\"height:2px;border-width:0;color:black;background-color:black\">"
   ]
  },
  {
   "cell_type": "markdown",
   "metadata": {},
   "source": [
    "Output the mean absolute error and root mean squared error for the model. This will be used later to compare its performance compared to other models."
   ]
  },
  {
   "cell_type": "code",
   "execution_count": 4,
   "metadata": {},
   "outputs": [
    {
     "name": "stdout",
     "output_type": "stream",
     "text": [
      "Mean Absolute Error: 4017.3679999999936\n",
      "Root Mean Squared Error: 5414.444144656029\n"
     ]
    }
   ],
   "source": [
    "#We import the mean_absolute_error, mean_squared_error and sqrt functions\n",
    "from sklearn.metrics import mean_absolute_error, mean_squared_error\n",
    "from  numpy import sqrt\n",
    "\n",
    "#We use the mean_absolute_error on the response test data and the predictions data\n",
    "print('Mean Absolute Error:', mean_absolute_error(r_test, predictions))\n",
    "#We use the mean_squared_error on the same data and then get the square root to get root mean squared error\n",
    "print('Root Mean Squared Error:', sqrt(mean_squared_error(r_test, predictions)))"
   ]
  },
  {
   "cell_type": "markdown",
   "metadata": {},
   "source": [
    "<hr style=\"height:2px;border-width:0;color:black;background-color:black\">"
   ]
  },
  {
   "cell_type": "markdown",
   "metadata": {},
   "source": [
    "# 2. K-nearest Neighbors Regression"
   ]
  },
  {
   "cell_type": "markdown",
   "metadata": {},
   "source": [
    "Build a k-nearest neighbors regression model that predicts the profit of a startup based on expenditure and location."
   ]
  },
  {
   "cell_type": "code",
   "execution_count": 5,
   "metadata": {},
   "outputs": [
    {
     "data": {
      "text/plain": [
       "KNeighborsRegressor()"
      ]
     },
     "execution_count": 5,
     "metadata": {},
     "output_type": "execute_result"
    }
   ],
   "source": [
    "#First we import the function\n",
    "from sklearn.neighbors import KNeighborsRegressor\n",
    "#Then we store it in a function, using the default configurations\n",
    "regressor = KNeighborsRegressor()\n",
    "#Then we fit it using the training variables\n",
    "regressor.fit(p_train, r_train)"
   ]
  },
  {
   "cell_type": "markdown",
   "metadata": {},
   "source": [
    "<hr style=\"height:2px;border-width:0;color:black;background-color:black\">"
   ]
  },
  {
   "cell_type": "markdown",
   "metadata": {},
   "source": [
    "Create a variable called predictions that stores the model's predictions for each value in the testing version of the predictors variable."
   ]
  },
  {
   "cell_type": "code",
   "execution_count": 6,
   "metadata": {},
   "outputs": [],
   "source": [
    "#We can make these predictions by using the .predict() method\n",
    "predictions = regressor.predict(p_test)"
   ]
  },
  {
   "cell_type": "markdown",
   "metadata": {},
   "source": [
    "<hr style=\"height:2px;border-width:0;color:black;background-color:black\">"
   ]
  },
  {
   "cell_type": "markdown",
   "metadata": {},
   "source": [
    "Output the mean absolute error and root mean squared error for the model."
   ]
  },
  {
   "cell_type": "code",
   "execution_count": 7,
   "metadata": {},
   "outputs": [
    {
     "name": "stdout",
     "output_type": "stream",
     "text": [
      "Mean Absolute Error: 11693.1244\n",
      "Root Mean Squared Error: 13664.61340001483\n"
     ]
    }
   ],
   "source": [
    "#We import the mean_absolute_error, mean_squared_error and sqrt functions\n",
    "from sklearn.metrics import mean_absolute_error, mean_squared_error\n",
    "from  numpy import sqrt\n",
    "\n",
    "#We use the mean_absolute_error on the response test data and the predictions data\n",
    "print('Mean Absolute Error:', mean_absolute_error(r_test, predictions))\n",
    "#We use the mean_squared_error on the same data and then get the square root to get root mean squared error\n",
    "print('Root Mean Squared Error:', sqrt(mean_squared_error(r_test, predictions)))"
   ]
  },
  {
   "cell_type": "markdown",
   "metadata": {},
   "source": [
    "<hr style=\"height:2px;border-width:0;color:black;background-color:black\">"
   ]
  },
  {
   "cell_type": "markdown",
   "metadata": {},
   "source": [
    "# 3. Support Vector Regression"
   ]
  },
  {
   "cell_type": "markdown",
   "metadata": {},
   "source": [
    "Build a support vector regression model that predicts the profit of a startup based on expenditure and location."
   ]
  },
  {
   "cell_type": "code",
   "execution_count": 8,
   "metadata": {},
   "outputs": [
    {
     "data": {
      "text/plain": [
       "SVR()"
      ]
     },
     "execution_count": 8,
     "metadata": {},
     "output_type": "execute_result"
    }
   ],
   "source": [
    "#First we import the function\n",
    "from sklearn.svm import SVR\n",
    "#Then we store it in a function, using the default configurations\n",
    "regressor = SVR()\n",
    "#Then we fit it using the training variables\n",
    "regressor.fit(p_train, r_train)"
   ]
  },
  {
   "cell_type": "markdown",
   "metadata": {},
   "source": [
    "<hr style=\"height:2px;border-width:0;color:black;background-color:black\">"
   ]
  },
  {
   "cell_type": "markdown",
   "metadata": {},
   "source": [
    "Create a variable called predictions that stores the model's predictions for each value in the testing version of the predictors variable."
   ]
  },
  {
   "cell_type": "code",
   "execution_count": 9,
   "metadata": {},
   "outputs": [],
   "source": [
    "#We can make these predictions by using the .predict() method\n",
    "predictions = regressor.predict(p_test)"
   ]
  },
  {
   "cell_type": "markdown",
   "metadata": {},
   "source": [
    "<hr style=\"height:2px;border-width:0;color:black;background-color:black\">"
   ]
  },
  {
   "cell_type": "markdown",
   "metadata": {},
   "source": [
    "Output the mean absolute error and root mean squared error for the model."
   ]
  },
  {
   "cell_type": "code",
   "execution_count": 10,
   "metadata": {},
   "outputs": [
    {
     "name": "stdout",
     "output_type": "stream",
     "text": [
      "Mean Absolute Error: 36777.39779099337\n",
      "Root Mean Squared Error: 44803.83127675284\n"
     ]
    }
   ],
   "source": [
    "#We import the mean_absolute_error, mean_squared_error and sqrt functions\n",
    "from sklearn.metrics import mean_absolute_error, mean_squared_error\n",
    "from  numpy import sqrt\n",
    "\n",
    "#We use the mean_absolute_error on the response test data and the predictions data\n",
    "print('Mean Absolute Error:', mean_absolute_error(r_test, predictions))\n",
    "#We use the mean_squared_error on the same data and then get the square root to get root mean squared error\n",
    "print('Root Mean Squared Error:', sqrt(mean_squared_error(r_test, predictions)))"
   ]
  },
  {
   "cell_type": "markdown",
   "metadata": {},
   "source": [
    "<hr style=\"height:2px;border-width:0;color:black;background-color:black\">"
   ]
  },
  {
   "cell_type": "markdown",
   "metadata": {},
   "source": [
    "# 4. Logistic Regression"
   ]
  },
  {
   "cell_type": "markdown",
   "metadata": {},
   "source": [
    "The code below loads a credit card default dataset that captures personal information as well as credit card payment history over 6 months. You'll use this code to predict if a customer is likely to default in the following month.\n",
    "\n",
    "PAY_DELAY represents the cumulative number of months each person has made a delayed payment. BILL represents the sum of the bills of the 6 months. Paid represents the sum of money paid. Defaulted Next Month has 1 where the customer defaulted on the 7th month.\n",
    "\n",
    "The code sets Defaulted Next Month as the response variable and the remaining columns as the predictors variable. The categorical features are converted to dummy features and both the response and predictors variables are split into training and testing variants.\n",
    "\n",
    "Run the code below to load this and create the variables mentioned above."
   ]
  },
  {
   "cell_type": "code",
   "execution_count": 11,
   "metadata": {},
   "outputs": [
    {
     "data": {
      "text/html": [
       "<div>\n",
       "<style scoped>\n",
       "    .dataframe tbody tr th:only-of-type {\n",
       "        vertical-align: middle;\n",
       "    }\n",
       "\n",
       "    .dataframe tbody tr th {\n",
       "        vertical-align: top;\n",
       "    }\n",
       "\n",
       "    .dataframe thead th {\n",
       "        text-align: right;\n",
       "    }\n",
       "</style>\n",
       "<table border=\"1\" class=\"dataframe\">\n",
       "  <thead>\n",
       "    <tr style=\"text-align: right;\">\n",
       "      <th></th>\n",
       "      <th>Defaulted Next Month</th>\n",
       "      <th>Sex</th>\n",
       "      <th>Education level</th>\n",
       "      <th>Marriage</th>\n",
       "      <th>Age</th>\n",
       "      <th>Credit Card Limit</th>\n",
       "      <th>PAY_DELAY</th>\n",
       "      <th>BILL</th>\n",
       "      <th>PAID</th>\n",
       "    </tr>\n",
       "    <tr>\n",
       "      <th>ID</th>\n",
       "      <th></th>\n",
       "      <th></th>\n",
       "      <th></th>\n",
       "      <th></th>\n",
       "      <th></th>\n",
       "      <th></th>\n",
       "      <th></th>\n",
       "      <th></th>\n",
       "      <th></th>\n",
       "    </tr>\n",
       "  </thead>\n",
       "  <tbody>\n",
       "    <tr>\n",
       "      <th>1</th>\n",
       "      <td>1</td>\n",
       "      <td>Unspecified</td>\n",
       "      <td>High School</td>\n",
       "      <td>Married</td>\n",
       "      <td>24</td>\n",
       "      <td>20000</td>\n",
       "      <td>-2</td>\n",
       "      <td>7704</td>\n",
       "      <td>689</td>\n",
       "    </tr>\n",
       "    <tr>\n",
       "      <th>2</th>\n",
       "      <td>1</td>\n",
       "      <td>Unspecified</td>\n",
       "      <td>High School</td>\n",
       "      <td>Other</td>\n",
       "      <td>26</td>\n",
       "      <td>120000</td>\n",
       "      <td>2</td>\n",
       "      <td>17077</td>\n",
       "      <td>5000</td>\n",
       "    </tr>\n",
       "    <tr>\n",
       "      <th>3</th>\n",
       "      <td>0</td>\n",
       "      <td>Unspecified</td>\n",
       "      <td>High School</td>\n",
       "      <td>Other</td>\n",
       "      <td>34</td>\n",
       "      <td>90000</td>\n",
       "      <td>0</td>\n",
       "      <td>101653</td>\n",
       "      <td>11018</td>\n",
       "    </tr>\n",
       "    <tr>\n",
       "      <th>4</th>\n",
       "      <td>0</td>\n",
       "      <td>Unspecified</td>\n",
       "      <td>High School</td>\n",
       "      <td>Married</td>\n",
       "      <td>37</td>\n",
       "      <td>50000</td>\n",
       "      <td>0</td>\n",
       "      <td>231334</td>\n",
       "      <td>8388</td>\n",
       "    </tr>\n",
       "    <tr>\n",
       "      <th>5</th>\n",
       "      <td>0</td>\n",
       "      <td>Male</td>\n",
       "      <td>High School</td>\n",
       "      <td>Married</td>\n",
       "      <td>57</td>\n",
       "      <td>50000</td>\n",
       "      <td>0</td>\n",
       "      <td>109339</td>\n",
       "      <td>59049</td>\n",
       "    </tr>\n",
       "  </tbody>\n",
       "</table>\n",
       "</div>"
      ],
      "text/plain": [
       "    Defaulted Next Month          Sex Education level Marriage  Age  \\\n",
       "ID                                                                    \n",
       "1                      1  Unspecified     High School  Married   24   \n",
       "2                      1  Unspecified     High School    Other   26   \n",
       "3                      0  Unspecified     High School    Other   34   \n",
       "4                      0  Unspecified     High School  Married   37   \n",
       "5                      0         Male     High School  Married   57   \n",
       "\n",
       "    Credit Card Limit  PAY_DELAY    BILL   PAID  \n",
       "ID                                               \n",
       "1               20000         -2    7704    689  \n",
       "2              120000          2   17077   5000  \n",
       "3               90000          0  101653  11018  \n",
       "4               50000          0  231334   8388  \n",
       "5               50000          0  109339  59049  "
      ]
     },
     "execution_count": 11,
     "metadata": {},
     "output_type": "execute_result"
    }
   ],
   "source": [
    "import pandas as pd\n",
    "from urllib.request import urlretrieve\n",
    "\n",
    "#Reads in the dataset from a URL\n",
    "url = \"https://ac-101708228-virtuoso-prod.s3.amazonaws.com/uploads/download/111/credit_card_default.csv\"\n",
    "urlretrieve(url, \"credit_card_default.csv\")\n",
    "credit_card_default = pd.read_csv(\"credit_card_default.csv\",index_col=0)\n",
    "\n",
    "response = credit_card_default[\"Defaulted Next Month\"]\n",
    "predictors = credit_card_default.drop(\"Defaulted Next Month\",axis=1)\n",
    "\n",
    "#Gets dummy variables for the State column\n",
    "predictors=pd.get_dummies(predictors,drop_first=True)\n",
    "\n",
    "#Gets training and testing versions of each dataset\n",
    "#Note that below we can assign multiple variables at once\n",
    "#This works because we're assigning 4 variables and the output of the function is a list with 4 elements\n",
    "from sklearn.model_selection import train_test_split\n",
    "p_train, p_test, r_train ,r_test= train_test_split(predictors, response, test_size=0.1, random_state=50)\n",
    "\n",
    "#Provides a preview of the whole dataset for reference\n",
    "credit_card_default.head()"
   ]
  },
  {
   "cell_type": "markdown",
   "metadata": {},
   "source": [
    "<hr style=\"height:2px;border-width:0;color:black;background-color:black\">"
   ]
  },
  {
   "cell_type": "markdown",
   "metadata": {},
   "source": [
    "Check the continuous features in our data for multicollinearity. Remove any columns with an R score of <-0.8 or >0.8."
   ]
  },
  {
   "cell_type": "code",
   "execution_count": 12,
   "metadata": {
    "scrolled": true
   },
   "outputs": [
    {
     "data": {
      "image/png": "[encoded data removed]",
      "text/plain": [
       "<Figure size 432x288 with 2 Axes>"
      ]
     },
     "metadata": {
      "needs_background": "light"
     },
     "output_type": "display_data"
    }
   ],
   "source": [
    "#Imports the library containing the heatmap function\n",
    "import seaborn as sns\n",
    "\n",
    "#Applies the corr method to the continuous features\n",
    "#Stores the output in a variable called correlation_matrix\n",
    "correlation_matrix = credit_card_default[[\"Age\",\"Credit Card Limit\",\"PAY_DELAY\",\"BILL\",\"PAID\"]].corr()\n",
    "#The heatmap function displays the correlation matrix in a format that's easier to interpret\n",
    "sns.heatmap(correlation_matrix, annot=True);\n",
    "#As we can see, there's no sign of multicollinearity\n",
    "#This is because no 2 features have an R score of >0.8 or <-0.8"
   ]
  },
  {
   "cell_type": "markdown",
   "metadata": {},
   "source": [
    "<hr style=\"height:2px;border-width:0;color:black;background-color:black\">"
   ]
  },
  {
   "cell_type": "markdown",
   "metadata": {},
   "source": [
    "Check that the continuous features in our data are directional."
   ]
  },
  {
   "cell_type": "code",
   "execution_count": 13,
   "metadata": {},
   "outputs": [
    {
     "data": {
      "text/plain": [
       "<AxesSubplot:xlabel='Age', ylabel='Defaulted Next Month'>"
      ]
     },
     "execution_count": 13,
     "metadata": {},
     "output_type": "execute_result"
    },
    {
     "data": {
      "image/png": "[encoded data removed]",
      "text/plain": [
       "<Figure size 432x288 with 1 Axes>"
      ]
     },
     "metadata": {
      "needs_background": "light"
     },
     "output_type": "display_data"
    }
   ],
   "source": [
    "#We can use seaborn's regplot to check if a predictor feature is directional when compared to the response feature\n",
    "sns.regplot(x= 'Age', y= 'Defaulted Next Month', data= credit_card_default, logistic=True)"
   ]
  },
  {
   "cell_type": "code",
   "execution_count": 14,
   "metadata": {},
   "outputs": [
    {
     "data": {
      "text/plain": [
       "<AxesSubplot:xlabel='Credit Card Limit', ylabel='Defaulted Next Month'>"
      ]
     },
     "execution_count": 14,
     "metadata": {},
     "output_type": "execute_result"
    },
    {
     "data": {
      "image/png": "[encoded data removed]",
      "text/plain": [
       "<Figure size 432x288 with 1 Axes>"
      ]
     },
     "metadata": {
      "needs_background": "light"
     },
     "output_type": "display_data"
    }
   ],
   "source": [
    "#We can use seaborn's regplot to check if a predictor feature is directional when compared to the response feature\n",
    "sns.regplot(x= 'Credit Card Limit', y= 'Defaulted Next Month', data= credit_card_default, logistic=True)"
   ]
  },
  {
   "cell_type": "code",
   "execution_count": 15,
   "metadata": {},
   "outputs": [
    {
     "data": {
      "text/plain": [
       "<AxesSubplot:xlabel='PAY_DELAY', ylabel='Defaulted Next Month'>"
      ]
     },
     "execution_count": 15,
     "metadata": {},
     "output_type": "execute_result"
    },
    {
     "data": {
      "image/png": "[encoded data removed]",
      "text/plain": [
       "<Figure size 432x288 with 1 Axes>"
      ]
     },
     "metadata": {
      "needs_background": "light"
     },
     "output_type": "display_data"
    }
   ],
   "source": [
    "#We can use seaborn's regplot to check if a predictor feature is directional when compared to the response feature\n",
    "sns.regplot(x= 'PAY_DELAY', y= 'Defaulted Next Month', data= credit_card_default, logistic=True)"
   ]
  },
  {
   "cell_type": "code",
   "execution_count": 16,
   "metadata": {},
   "outputs": [
    {
     "data": {
      "text/plain": [
       "<AxesSubplot:xlabel='BILL', ylabel='Defaulted Next Month'>"
      ]
     },
     "execution_count": 16,
     "metadata": {},
     "output_type": "execute_result"
    },
    {
     "data": {
      "image/png": "[encoded data removed]",
      "text/plain": [
       "<Figure size 432x288 with 1 Axes>"
      ]
     },
     "metadata": {
      "needs_background": "light"
     },
     "output_type": "display_data"
    }
   ],
   "source": [
    "#We can use seaborn's regplot to check if a predictor feature is directional when compared to the response feature\n",
    "sns.regplot(x= 'BILL', y= 'Defaulted Next Month', data= credit_card_default, logistic=True)"
   ]
  },
  {
   "cell_type": "code",
   "execution_count": 17,
   "metadata": {
    "scrolled": true
   },
   "outputs": [
    {
     "data": {
      "text/plain": [
       "<AxesSubplot:xlabel='PAID', ylabel='Defaulted Next Month'>"
      ]
     },
     "execution_count": 17,
     "metadata": {},
     "output_type": "execute_result"
    },
    {
     "data": {
      "image/png": "[encoded data removed]",
      "text/plain": [
       "<Figure size 432x288 with 1 Axes>"
      ]
     },
     "metadata": {
      "needs_background": "light"
     },
     "output_type": "display_data"
    }
   ],
   "source": [
    "#We can use seaborn's regplot to check if a predictor feature is directional when compared to the response feature\n",
    "sns.regplot(x= 'PAID', y= 'Defaulted Next Month', data= credit_card_default, logistic=True)"
   ]
  },
  {
   "cell_type": "markdown",
   "metadata": {},
   "source": [
    "<hr style=\"height:2px;border-width:0;color:black;background-color:black\">"
   ]
  },
  {
   "cell_type": "markdown",
   "metadata": {},
   "source": [
    "Build and train a logistic regression model."
   ]
  },
  {
   "cell_type": "code",
   "execution_count": 18,
   "metadata": {
    "scrolled": true
   },
   "outputs": [
    {
     "data": {
      "text/plain": [
       "LogisticRegression(solver='liblinear')"
      ]
     },
     "execution_count": 18,
     "metadata": {},
     "output_type": "execute_result"
    }
   ],
   "source": [
    "#First we import the functions\n",
    "from sklearn.linear_model import LogisticRegression\n",
    "import numpy as np\n",
    "#Then we store it in a function, using the default configurations\n",
    "regressor = LogisticRegression(solver='liblinear')\n",
    "#Then we fit it using the training variables\n",
    "#We also need to use the ravel function on the response variable to avoid an error\n",
    "regressor.fit(p_train, np.ravel(r_train))"
   ]
  },
  {
   "cell_type": "markdown",
   "metadata": {},
   "source": [
    "<hr style=\"height:2px;border-width:0;color:black;background-color:black\">"
   ]
  },
  {
   "cell_type": "markdown",
   "metadata": {},
   "source": [
    "Create a variable called predictions that stores the model's predictions for each value in the testing version of the predictors variable."
   ]
  },
  {
   "cell_type": "code",
   "execution_count": 19,
   "metadata": {},
   "outputs": [],
   "source": [
    "#We can make these predictions by using the .predict() method\n",
    "predictions = regressor.predict(p_test)"
   ]
  },
  {
   "cell_type": "markdown",
   "metadata": {},
   "source": [
    "<hr style=\"height:2px;border-width:0;color:black;background-color:black\">"
   ]
  },
  {
   "cell_type": "markdown",
   "metadata": {},
   "source": [
    "Output the precision, recall and accuracy values for the model. Add the argument zero_division=0 to the classification_report function to output a 0 instead of a divide by 0 error."
   ]
  },
  {
   "cell_type": "code",
   "execution_count": 20,
   "metadata": {},
   "outputs": [
    {
     "name": "stdout",
     "output_type": "stream",
     "text": [
      "              precision    recall  f1-score   support\n",
      "\n",
      "        Paid       0.79      1.00      0.88      2356\n",
      "   Defaulted       0.00      0.00      0.00       644\n",
      "\n",
      "    accuracy                           0.79      3000\n",
      "   macro avg       0.39      0.50      0.44      3000\n",
      "weighted avg       0.62      0.79      0.69      3000\n",
      "\n"
     ]
    }
   ],
   "source": [
    "#We can use the classification_report function to check the precision, recall and accuracy values for the model\n",
    "from sklearn.metrics import classification_report\n",
    "#We'll set zero_division to 0 to avoid a zero division error\n",
    "#This means the output of dividing a number by 0 will be 0\n",
    "print(classification_report(r_test, predictions,target_names=[\"Paid\",\"Defaulted\"],zero_division=0))"
   ]
  }
 ],
 "metadata": {
  "kernelspec": {
   "display_name": "Python 3",
   "language": "python",
   "name": "python3"
  },
  "language_info": {
   "codemirror_mode": {
    "name": "ipython",
    "version": 3
   },
   "file_extension": ".py",
   "mimetype": "text/x-python",
   "name": "python",
   "nbconvert_exporter": "python",
   "pygments_lexer": "ipython3",
   "version": "3.8.8"
  }
 },
 "nbformat": 4,
 "nbformat_minor": 2
}
