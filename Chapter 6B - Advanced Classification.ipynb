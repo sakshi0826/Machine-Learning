{
 "cells": [
  {
   "cell_type": "markdown",
   "id": "5afc8a26",
   "metadata": {},
   "source": [
    "We'll be working with a dataset containing news articles from a variety of sources that have been tagged as either fake or real by a fact checking agency. We'll see if we can use this data to build an algorithm that can accurately predict if other articles are fake or real news.\n",
    "\n",
    "Run the cell below to download the fake news dataset and store it in a dataframe variable."
   ]
  },
  {
   "cell_type": "code",
   "execution_count": 1,
   "id": "6e670cef",
   "metadata": {},
   "outputs": [
    {
     "data": {
      "text/html": [
       "<div>\n",
       "<style scoped>\n",
       "    .dataframe tbody tr th:only-of-type {\n",
       "        vertical-align: middle;\n",
       "    }\n",
       "\n",
       "    .dataframe tbody tr th {\n",
       "        vertical-align: top;\n",
       "    }\n",
       "\n",
       "    .dataframe thead th {\n",
       "        text-align: right;\n",
       "    }\n",
       "</style>\n",
       "<table border=\"1\" class=\"dataframe\">\n",
       "  <thead>\n",
       "    <tr style=\"text-align: right;\">\n",
       "      <th></th>\n",
       "      <th>title</th>\n",
       "      <th>text</th>\n",
       "      <th>subject</th>\n",
       "      <th>Type</th>\n",
       "    </tr>\n",
       "  </thead>\n",
       "  <tbody>\n",
       "    <tr>\n",
       "      <th>0</th>\n",
       "      <td>U.S.-backed forces in Syria's Raqqa say they t...</td>\n",
       "      <td>BEIRUT (Reuters) - The Syrian Democratic Force...</td>\n",
       "      <td>worldnews</td>\n",
       "      <td>Real</td>\n",
       "    </tr>\n",
       "    <tr>\n",
       "      <th>1</th>\n",
       "      <td>Ukrainian MP offers more details on alleged pa...</td>\n",
       "      <td>KIEV (Reuters) - A Ukrainian lawmaker on Frida...</td>\n",
       "      <td>politicsNews</td>\n",
       "      <td>Real</td>\n",
       "    </tr>\n",
       "    <tr>\n",
       "      <th>2</th>\n",
       "      <td>AWESOME! PRESIDENT TRUMP Shows Off His Strengt...</td>\n",
       "      <td>Obama would have hurt himself doing this (see ...</td>\n",
       "      <td>left-news</td>\n",
       "      <td>Fake</td>\n",
       "    </tr>\n",
       "    <tr>\n",
       "      <th>3</th>\n",
       "      <td>#TrumperTantrum: Twitter’s Brilliant Response...</td>\n",
       "      <td>As you have all probably heard by now, Donald ...</td>\n",
       "      <td>News</td>\n",
       "      <td>Fake</td>\n",
       "    </tr>\n",
       "    <tr>\n",
       "      <th>4</th>\n",
       "      <td>HYSTERICAL! DELUSIONAL HILLARY CLAIMS “EPIDEMI...</td>\n",
       "      <td>Hillary Clinton on Thursday decried the spread...</td>\n",
       "      <td>left-news</td>\n",
       "      <td>Fake</td>\n",
       "    </tr>\n",
       "  </tbody>\n",
       "</table>\n",
       "</div>"
      ],
      "text/plain": [
       "                                               title  \\\n",
       "0  U.S.-backed forces in Syria's Raqqa say they t...   \n",
       "1  Ukrainian MP offers more details on alleged pa...   \n",
       "2  AWESOME! PRESIDENT TRUMP Shows Off His Strengt...   \n",
       "3   #TrumperTantrum: Twitter’s Brilliant Response...   \n",
       "4  HYSTERICAL! DELUSIONAL HILLARY CLAIMS “EPIDEMI...   \n",
       "\n",
       "                                                text       subject  Type  \n",
       "0  BEIRUT (Reuters) - The Syrian Democratic Force...     worldnews  Real  \n",
       "1  KIEV (Reuters) - A Ukrainian lawmaker on Frida...  politicsNews  Real  \n",
       "2  Obama would have hurt himself doing this (see ...     left-news  Fake  \n",
       "3  As you have all probably heard by now, Donald ...          News  Fake  \n",
       "4  Hillary Clinton on Thursday decried the spread...     left-news  Fake  "
      ]
     },
     "execution_count": 1,
     "metadata": {},
     "output_type": "execute_result"
    }
   ],
   "source": [
    "import pandas as pd\n",
    "from urllib.request import urlretrieve\n",
    "\n",
    "link=\"https://ac-101708228-virtuoso-prod.s3.amazonaws.com/uploads/download/123/Fake_News_Dataset.csv\"\n",
    "\n",
    "urlretrieve(link, \"Fake_News_Dataset.csv\")\n",
    "fake_news_dataset=pd.read_csv(\"Fake_News_Dataset.csv\")\n",
    "\n",
    "fake_news_dataset.head()"
   ]
  },
  {
   "cell_type": "markdown",
   "id": "38324fb6",
   "metadata": {},
   "source": [
    "Use the \"Type\" field as the response feature and the \"text\" field as the predictor feature. Note that this model works better if you don't extract the index column when assigning the response and predictors variables. You can do this by just using [] instead of [[]]."
   ]
  },
  {
   "cell_type": "code",
   "execution_count": 2,
   "id": "6eb38a61",
   "metadata": {},
   "outputs": [],
   "source": [
    "#As the instructions suggest, we use the syntax [\"text\"] to exclude the ID column\n",
    "response=fake_news_dataset[\"Type\"]\n",
    "predictors=fake_news_dataset[\"text\"]"
   ]
  },
  {
   "cell_type": "markdown",
   "id": "42ff3b7b",
   "metadata": {},
   "source": [
    "Split the data using 1 as the random_state. Set the test size to 0.20."
   ]
  },
  {
   "cell_type": "code",
   "execution_count": 3,
   "id": "8ca85525",
   "metadata": {},
   "outputs": [],
   "source": [
    "#We start by importing the train_test_split function\n",
    "from sklearn.model_selection import train_test_split\n",
    "\n",
    "#We then assign the 4 train/test variables using the train_test_split function\n",
    "#We do this over 2 lines to avoid a horizontal scroll bar\n",
    "predictors_train, predictors_test,response_train,response_test = train_test_split(\n",
    "    predictors,response,test_size=0.20,random_state=1)"
   ]
  },
  {
   "cell_type": "markdown",
   "id": "46b327af",
   "metadata": {},
   "source": [
    "Train a Multinomial Naive Bayes model."
   ]
  },
  {
   "cell_type": "code",
   "execution_count": 4,
   "id": "8697cff8",
   "metadata": {},
   "outputs": [
    {
     "data": {
      "text/plain": [
       "Pipeline(steps=[('tfidfvectorizer', TfidfVectorizer()),\n",
       "                ('multinomialnb', MultinomialNB())])"
      ]
     },
     "execution_count": 4,
     "metadata": {},
     "output_type": "execute_result"
    }
   ],
   "source": [
    "#First we import the necessary functions\n",
    "from sklearn.pipeline import make_pipeline\n",
    "from sklearn.feature_extraction.text import TfidfVectorizer\n",
    "from sklearn.naive_bayes import MultinomialNB\n",
    "\n",
    "#Then we make the model\n",
    "#This uses the make_pipeline function which takes two functions as arguments\n",
    "#TfidfVectorizer changes our raw text data to a list of word frequencies\n",
    "#Finally the MultinomialNB function is the function that performs Multinomial Naive Bayes\n",
    "model = make_pipeline(TfidfVectorizer(), MultinomialNB())\n",
    "#We then fit the model using the training data\n",
    "model.fit(predictors_train, response_train)"
   ]
  },
  {
   "cell_type": "markdown",
   "id": "fa51203b",
   "metadata": {},
   "source": [
    "Make predictions using the test data and store them in a variable."
   ]
  },
  {
   "cell_type": "code",
   "execution_count": 5,
   "id": "cf50fd27",
   "metadata": {},
   "outputs": [],
   "source": [
    "#We call the variable predicted_type\n",
    "#We use the .predict() method to make predictions on the predictors_test variable\n",
    "predicted_type = model.predict(predictors_test)"
   ]
  },
  {
   "cell_type": "markdown",
   "id": "e3d59e6a",
   "metadata": {},
   "source": [
    "Build a confusion matrix."
   ]
  },
  {
   "cell_type": "code",
   "execution_count": 6,
   "id": "6c9430f8",
   "metadata": {},
   "outputs": [
    {
     "data": {
      "image/png": "[encoded data removed]",
      "text/plain": [
       "<Figure size 432x288 with 2 Axes>"
      ]
     },
     "metadata": {
      "needs_background": "light"
     },
     "output_type": "display_data"
    }
   ],
   "source": [
    "#First we import the necessary functions\n",
    "from sklearn.metrics import confusion_matrix,classification_report\n",
    "from seaborn import heatmap\n",
    "from matplotlib.pyplot import xlabel,ylabel\n",
    "\n",
    "#We use the confusion_matrix function on the response_test and predicted_type variables\n",
    "mat = confusion_matrix(response_test, predicted_type)\n",
    "#We then create a variable called classes that contains the class names (i.e. Real and Fake)\n",
    "classes = response.unique()\n",
    "\n",
    "#The heatmap function plots the confusion matrix in a heatmap which is far easier to understand\n",
    "#the annot argument overlays the confusion matrix values on the squares\n",
    "#The fmt = \"d\" argument ensures that the annotations are whole numbers\n",
    "#The xticklabels and yticklabels arguments are set to the classes variable\n",
    "heatmap(mat, annot = True, fmt = \"d\", xticklabels = classes, yticklabels = classes)\n",
    "#The xlabel and ylabel functions allow us to plot the axis labels\n",
    "xlabel(\"Predicted Type\")\n",
    "ylabel(\"Actual Type\");"
   ]
  },
  {
   "cell_type": "markdown",
   "id": "c9d16793",
   "metadata": {},
   "source": [
    "Build a classification report."
   ]
  },
  {
   "cell_type": "code",
   "execution_count": 7,
   "id": "5d781969",
   "metadata": {},
   "outputs": [
    {
     "name": "stdout",
     "output_type": "stream",
     "text": [
      "              precision    recall  f1-score   support\n",
      "\n",
      "        Fake       0.93      0.94      0.94       522\n",
      "        Real       0.93      0.91      0.92       444\n",
      "\n",
      "    accuracy                           0.93       966\n",
      "   macro avg       0.93      0.93      0.93       966\n",
      "weighted avg       0.93      0.93      0.93       966\n",
      "\n"
     ]
    }
   ],
   "source": [
    "#First we import the classification_report function\n",
    "from sklearn.metrics import classification_report\n",
    "\n",
    "#We then use the classification_report on the response_test and predicted_type data\n",
    "#We then wrap the function in the print function to give a formatted output\n",
    "#This provides precision and recall scores\n",
    "#It looks like this model is quite good at identifying fake news\n",
    "#The high precision means that over 90% of its guesses are accurate\n",
    "#The high recall shows that almost all fake news is correctly labeled\n",
    "#Most real news is correctly labeled\n",
    "#This means that only a few fake news articles will fool this model\n",
    "#Meanwhile, slightly more real news stories will be misclassified as fake\n",
    "print(classification_report(response_test, predicted_type))"
   ]
  },
  {
   "cell_type": "markdown",
   "id": "7559d135",
   "metadata": {},
   "source": [
    "We'll be working with a dataset containing asteroseismology data for a number of different stars spotted by astronomers. You'll help to build a model that astronomers can use to quickly identify if a star is a red giant or a normal star.\n",
    "\n",
    "Run the cell below to download the asteroseismology dataset and store it in a dataframe variable."
   ]
  },
  {
   "cell_type": "code",
   "execution_count": 8,
   "id": "b87f006e",
   "metadata": {},
   "outputs": [
    {
     "data": {
      "text/html": [
       "<div>\n",
       "<style scoped>\n",
       "    .dataframe tbody tr th:only-of-type {\n",
       "        vertical-align: middle;\n",
       "    }\n",
       "\n",
       "    .dataframe tbody tr th {\n",
       "        vertical-align: top;\n",
       "    }\n",
       "\n",
       "    .dataframe thead th {\n",
       "        text-align: right;\n",
       "    }\n",
       "</style>\n",
       "<table border=\"1\" class=\"dataframe\">\n",
       "  <thead>\n",
       "    <tr style=\"text-align: right;\">\n",
       "      <th></th>\n",
       "      <th>Type</th>\n",
       "      <th>Dnu</th>\n",
       "      <th>Numax</th>\n",
       "      <th>Epsilon</th>\n",
       "    </tr>\n",
       "  </thead>\n",
       "  <tbody>\n",
       "    <tr>\n",
       "      <th>0</th>\n",
       "      <td>Normal Star</td>\n",
       "      <td>4.44780</td>\n",
       "      <td>43.06289</td>\n",
       "      <td>0.985</td>\n",
       "    </tr>\n",
       "    <tr>\n",
       "      <th>1</th>\n",
       "      <td>Red Giant</td>\n",
       "      <td>6.94399</td>\n",
       "      <td>74.07646</td>\n",
       "      <td>0.150</td>\n",
       "    </tr>\n",
       "    <tr>\n",
       "      <th>2</th>\n",
       "      <td>Normal Star</td>\n",
       "      <td>2.64571</td>\n",
       "      <td>21.57891</td>\n",
       "      <td>0.855</td>\n",
       "    </tr>\n",
       "    <tr>\n",
       "      <th>3</th>\n",
       "      <td>Normal Star</td>\n",
       "      <td>4.24168</td>\n",
       "      <td>32.13189</td>\n",
       "      <td>0.840</td>\n",
       "    </tr>\n",
       "    <tr>\n",
       "      <th>4</th>\n",
       "      <td>Red Giant</td>\n",
       "      <td>10.44719</td>\n",
       "      <td>120.37356</td>\n",
       "      <td>0.275</td>\n",
       "    </tr>\n",
       "  </tbody>\n",
       "</table>\n",
       "</div>"
      ],
      "text/plain": [
       "          Type       Dnu      Numax  Epsilon\n",
       "0  Normal Star   4.44780   43.06289    0.985\n",
       "1    Red Giant   6.94399   74.07646    0.150\n",
       "2  Normal Star   2.64571   21.57891    0.855\n",
       "3  Normal Star   4.24168   32.13189    0.840\n",
       "4    Red Giant  10.44719  120.37356    0.275"
      ]
     },
     "execution_count": 8,
     "metadata": {},
     "output_type": "execute_result"
    }
   ],
   "source": [
    "import pandas as pd\n",
    "from urllib.request import urlretrieve\n",
    "\n",
    "link=\"https://ac-101708228-virtuoso-prod.s3.amazonaws.com/uploads/download/124/asteroseismology_dataset.csv\"\n",
    "\n",
    "urlretrieve(link, \"asteroseismology_dataset.csv\")\n",
    "asteroseismology_dataset=pd.read_csv(\"asteroseismology_dataset.csv\")\n",
    "\n",
    "asteroseismology_dataset.head()"
   ]
  },
  {
   "cell_type": "markdown",
   "id": "1a1207ab",
   "metadata": {},
   "source": [
    "Use the \"Type\" field as the response feature and the remaining fields as the predictor features."
   ]
  },
  {
   "cell_type": "code",
   "execution_count": 9,
   "id": "5ab61b14",
   "metadata": {},
   "outputs": [],
   "source": [
    "#We assign the response variable as the Type column\n",
    "response=asteroseismology_dataset[\"Type\"]\n",
    "#We use the .drop() method to remove the Type column, leaving behind the predictors\n",
    "predictors=asteroseismology_dataset.drop(\"Type\",axis=1)"
   ]
  },
  {
   "cell_type": "markdown",
   "id": "18c71a19",
   "metadata": {},
   "source": [
    "Split the data using 5 as the random_state. Set the test size to 0.25."
   ]
  },
  {
   "cell_type": "code",
   "execution_count": 10,
   "id": "0eeac4b3",
   "metadata": {},
   "outputs": [],
   "source": [
    "#We start by importing the train_test_split function\n",
    "from sklearn.model_selection import train_test_split\n",
    "\n",
    "#We then assign the 4 train/test variables using the train_test_split function\n",
    "#We do this over 2 lines to avoid a horizontal scroll bar\n",
    "predictors_train, predictors_test,response_train,response_test = train_test_split(\n",
    "    predictors,response,test_size=0.25,random_state=5)"
   ]
  },
  {
   "cell_type": "markdown",
   "id": "3ceafd4d",
   "metadata": {},
   "source": [
    "Train a Gaussian Naive Bayes model."
   ]
  },
  {
   "cell_type": "code",
   "execution_count": 11,
   "id": "4c5f21bf",
   "metadata": {},
   "outputs": [
    {
     "data": {
      "text/plain": [
       "GaussianNB()"
      ]
     },
     "execution_count": 11,
     "metadata": {},
     "output_type": "execute_result"
    }
   ],
   "source": [
    "#First we import the necessary functions\n",
    "from sklearn.naive_bayes import GaussianNB\n",
    "\n",
    "#Then we store the function in the model variable\n",
    "model = GaussianNB()\n",
    "#We then fit the model using the training data\n",
    "model.fit(predictors_train, response_train)"
   ]
  },
  {
   "cell_type": "markdown",
   "id": "b19aabc6",
   "metadata": {},
   "source": [
    "Make predictions using the test data and store them in a variable."
   ]
  },
  {
   "cell_type": "code",
   "execution_count": 12,
   "id": "09c73107",
   "metadata": {},
   "outputs": [],
   "source": [
    "#We call the variable predicted_type\n",
    "#We use the .predict() method to make predictions on the predictors_test variable\n",
    "predicted_type = model.predict(predictors_test)"
   ]
  },
  {
   "cell_type": "markdown",
   "id": "74b507e2",
   "metadata": {},
   "source": [
    "Build a confusion matrix."
   ]
  },
  {
   "cell_type": "code",
   "execution_count": 13,
   "id": "0664c1b9",
   "metadata": {},
   "outputs": [
    {
     "data": {
      "image/png": "[encoded data removed]",
      "text/plain": [
       "<Figure size 432x288 with 2 Axes>"
      ]
     },
     "metadata": {
      "needs_background": "light"
     },
     "output_type": "display_data"
    }
   ],
   "source": [
    "#First we import the necessary functions\n",
    "from sklearn.metrics import confusion_matrix,classification_report\n",
    "from seaborn import heatmap\n",
    "from matplotlib.pyplot import xlabel,ylabel\n",
    "\n",
    "#We use the confusion_matrix function on the response_test and predicted_type variables\n",
    "mat = confusion_matrix(response_test, predicted_type)\n",
    "#We then create a variable called classes that contains the class names (i.e. Real and Fake)\n",
    "classes = response.unique()\n",
    "\n",
    "#The heatmap function plots the confusion matrix in a heatmap which is far easier to understand\n",
    "#the annot argument overlays the confusion matrix values on the squares\n",
    "#The fmt = \"d\" argument ensures that the annotations are whole numbers\n",
    "#The xticklabels and yticklabels arguments are set to the classes variable\n",
    "heatmap(mat, annot = True, fmt = \"d\", xticklabels = classes, yticklabels = classes)\n",
    "#The xlabel and ylabel functions allow us to plot the axis labels\n",
    "xlabel(\"Predicted Type\")\n",
    "ylabel(\"Actual Type\");"
   ]
  },
  {
   "cell_type": "markdown",
   "id": "6c948d46",
   "metadata": {},
   "source": [
    "Build a classification report."
   ]
  },
  {
   "cell_type": "code",
   "execution_count": 14,
   "id": "5d781969",
   "metadata": {},
   "outputs": [
    {
     "name": "stdout",
     "output_type": "stream",
     "text": [
      "              precision    recall  f1-score   support\n",
      "\n",
      " Normal Star       0.99      0.97      0.98       193\n",
      "   Red Giant       0.92      0.97      0.94        58\n",
      "\n",
      "    accuracy                           0.97       251\n",
      "   macro avg       0.95      0.97      0.96       251\n",
      "weighted avg       0.97      0.97      0.97       251\n",
      "\n"
     ]
    }
   ],
   "source": [
    "#First we import the classification_report function\n",
    "from sklearn.metrics import classification_report\n",
    "\n",
    "#We then use the classification_report on the response_test and predicted_type data\n",
    "#We then wrap the function in the print function to give a formatted output\n",
    "#This provides precision and recall scores\n",
    "#It looks like this model isn't bad, but has some flaws\n",
    "#The recall figure for Red Giant shows that around 1/3 Red Giants are misclassified\n",
    "print(classification_report(response_test, predicted_type))"
   ]
  },
  {
   "cell_type": "markdown",
   "id": "5afc8a26",
   "metadata": {},
   "source": [
    "We'll be working with a dataset containing asteroseismology data for a number of different stars spotted by astronomers. You'll help to build a model that astronomers can use to quickly identify if a star is a red giant or a normal star.\n",
    "\n",
    "Run the cell below to download the asteroseismology dataset and store it in a dataframe variable."
   ]
  },
  {
   "cell_type": "code",
   "execution_count": 15,
   "id": "6e670cef",
   "metadata": {},
   "outputs": [
    {
     "data": {
      "text/html": [
       "<div>\n",
       "<style scoped>\n",
       "    .dataframe tbody tr th:only-of-type {\n",
       "        vertical-align: middle;\n",
       "    }\n",
       "\n",
       "    .dataframe tbody tr th {\n",
       "        vertical-align: top;\n",
       "    }\n",
       "\n",
       "    .dataframe thead th {\n",
       "        text-align: right;\n",
       "    }\n",
       "</style>\n",
       "<table border=\"1\" class=\"dataframe\">\n",
       "  <thead>\n",
       "    <tr style=\"text-align: right;\">\n",
       "      <th></th>\n",
       "      <th>Type</th>\n",
       "      <th>Dnu</th>\n",
       "      <th>Numax</th>\n",
       "      <th>Epsilon</th>\n",
       "    </tr>\n",
       "  </thead>\n",
       "  <tbody>\n",
       "    <tr>\n",
       "      <th>0</th>\n",
       "      <td>Normal Star</td>\n",
       "      <td>4.44780</td>\n",
       "      <td>43.06289</td>\n",
       "      <td>0.985</td>\n",
       "    </tr>\n",
       "    <tr>\n",
       "      <th>1</th>\n",
       "      <td>Red Giant</td>\n",
       "      <td>6.94399</td>\n",
       "      <td>74.07646</td>\n",
       "      <td>0.150</td>\n",
       "    </tr>\n",
       "    <tr>\n",
       "      <th>2</th>\n",
       "      <td>Normal Star</td>\n",
       "      <td>2.64571</td>\n",
       "      <td>21.57891</td>\n",
       "      <td>0.855</td>\n",
       "    </tr>\n",
       "    <tr>\n",
       "      <th>3</th>\n",
       "      <td>Normal Star</td>\n",
       "      <td>4.24168</td>\n",
       "      <td>32.13189</td>\n",
       "      <td>0.840</td>\n",
       "    </tr>\n",
       "    <tr>\n",
       "      <th>4</th>\n",
       "      <td>Red Giant</td>\n",
       "      <td>10.44719</td>\n",
       "      <td>120.37356</td>\n",
       "      <td>0.275</td>\n",
       "    </tr>\n",
       "  </tbody>\n",
       "</table>\n",
       "</div>"
      ],
      "text/plain": [
       "          Type       Dnu      Numax  Epsilon\n",
       "0  Normal Star   4.44780   43.06289    0.985\n",
       "1    Red Giant   6.94399   74.07646    0.150\n",
       "2  Normal Star   2.64571   21.57891    0.855\n",
       "3  Normal Star   4.24168   32.13189    0.840\n",
       "4    Red Giant  10.44719  120.37356    0.275"
      ]
     },
     "execution_count": 15,
     "metadata": {},
     "output_type": "execute_result"
    }
   ],
   "source": [
    "import pandas as pd\n",
    "from urllib.request import urlretrieve\n",
    "\n",
    "link=\"https://ac-101708228-virtuoso-prod.s3.amazonaws.com/uploads/download/124/asteroseismology_dataset.csv\"\n",
    "\n",
    "urlretrieve(link, \"asteroseismology_dataset.csv\")\n",
    "asteroseismology_dataset=pd.read_csv(\"asteroseismology_dataset.csv\")\n",
    "\n",
    "asteroseismology_dataset.head()"
   ]
  },
  {
   "cell_type": "markdown",
   "id": "38324fb6",
   "metadata": {},
   "source": [
    "Use the \"Type\" field as the response feature and the remaining fields as the predictor features."
   ]
  },
  {
   "cell_type": "code",
   "execution_count": 16,
   "id": "6eb38a61",
   "metadata": {},
   "outputs": [],
   "source": [
    "#We assign the response variable as the Type column\n",
    "response=asteroseismology_dataset[\"Type\"]\n",
    "#We use the .drop() method to remove the Type column, leaving behind the predictors\n",
    "predictors=asteroseismology_dataset.drop(\"Type\",axis=1)"
   ]
  },
  {
   "cell_type": "markdown",
   "id": "42ff3b7b",
   "metadata": {},
   "source": [
    "Split the data using 15 as the random_state. Set the test size to 0.15."
   ]
  },
  {
   "cell_type": "code",
   "execution_count": 17,
   "id": "8ca85525",
   "metadata": {},
   "outputs": [],
   "source": [
    "#We start by importing the train_test_split function\n",
    "from sklearn.model_selection import train_test_split\n",
    "\n",
    "#We then assign the 4 train/test variables using the train_test_split function\n",
    "#We do this over 2 lines to avoid a horizontal scroll bar\n",
    "predictors_train, predictors_test,response_train,response_test = train_test_split(\n",
    "    predictors,response,test_size=0.15,random_state=15)"
   ]
  },
  {
   "cell_type": "markdown",
   "id": "46b327af",
   "metadata": {},
   "source": [
    "Train a Support Vector Machines model. No need to specify arguments as we can't tell how they'll affect the performance until we've examined the results."
   ]
  },
  {
   "cell_type": "code",
   "execution_count": 18,
   "id": "8697cff8",
   "metadata": {},
   "outputs": [
    {
     "data": {
      "text/plain": [
       "SVC(C=100, gamma=0.5)"
      ]
     },
     "execution_count": 18,
     "metadata": {},
     "output_type": "execute_result"
    }
   ],
   "source": [
    "#First we import the required function\n",
    "from sklearn.svm import SVC\n",
    "\n",
    "#Initially this model has no arguments\n",
    "#After fine tuning we can see that we get a much better performance\n",
    "#We can do this with a gamma of around 0.5 and a C of around 100\n",
    "model = SVC(gamma=0.5,C=100)\n",
    "model.fit(predictors_train, response_train)"
   ]
  },
  {
   "cell_type": "markdown",
   "id": "fa51203b",
   "metadata": {},
   "source": [
    "Make predictions using the test data and store them in a variable."
   ]
  },
  {
   "cell_type": "code",
   "execution_count": 19,
   "id": "cf50fd27",
   "metadata": {},
   "outputs": [],
   "source": [
    "#We call the variable predicted_type\n",
    "#We use the .predict() method to make predictions on the predictors_test variable\n",
    "predicted_type = model.predict(predictors_test)"
   ]
  },
  {
   "cell_type": "markdown",
   "id": "e3d59e6a",
   "metadata": {},
   "source": [
    "Build a confusion matrix."
   ]
  },
  {
   "cell_type": "code",
   "execution_count": 20,
   "id": "6c9430f8",
   "metadata": {},
   "outputs": [
    {
     "data": {
      "image/png": "[encoded data removed]",
      "text/plain": [
       "<Figure size 432x288 with 2 Axes>"
      ]
     },
     "metadata": {
      "needs_background": "light"
     },
     "output_type": "display_data"
    }
   ],
   "source": [
    "#First we import the necessary functions\n",
    "from sklearn.metrics import confusion_matrix,classification_report\n",
    "from seaborn import heatmap\n",
    "from matplotlib.pyplot import xlabel,ylabel\n",
    "\n",
    "#We use the confusion_matrix function on the response_test and predicted_type variables\n",
    "mat = confusion_matrix(response_test, predicted_type)\n",
    "#We then create a variable called classes that contains the class names (i.e. Real and Fake)\n",
    "classes = response.unique()\n",
    "\n",
    "#The heatmap function plots the confusion matrix in a heatmap which is far easier to understand\n",
    "#the annot argument overlays the confusion matrix values on the squares\n",
    "#The fmt = \"d\" argument ensures that the annotations are whole numbers\n",
    "#The xticklabels and yticklabels arguments are set to the classes variable\n",
    "heatmap(mat, annot = True, fmt = \"d\", xticklabels = classes, yticklabels = classes)\n",
    "#The xlabel and ylabel functions allow us to plot the axis labels\n",
    "xlabel(\"Predicted Type\")\n",
    "ylabel(\"Actual Type\");"
   ]
  },
  {
   "cell_type": "markdown",
   "id": "c9d16793",
   "metadata": {},
   "source": [
    "Build a classification report. Iterate the values for gamma and C in your model above to find the optimal values in this report."
   ]
  },
  {
   "cell_type": "code",
   "execution_count": 21,
   "id": "5d781969",
   "metadata": {},
   "outputs": [
    {
     "name": "stdout",
     "output_type": "stream",
     "text": [
      "              precision    recall  f1-score   support\n",
      "\n",
      " Normal Star       0.99      0.99      0.99       115\n",
      "   Red Giant       0.97      0.97      0.97        36\n",
      "\n",
      "    accuracy                           0.99       151\n",
      "   macro avg       0.98      0.98      0.98       151\n",
      "weighted avg       0.99      0.99      0.99       151\n",
      "\n"
     ]
    }
   ],
   "source": [
    "#First we import the classification_report function\n",
    "from sklearn.metrics import classification_report\n",
    "\n",
    "#We then use the classification_report on the response_test and predicted_type data\n",
    "#We then wrap the function in the print function to give a formatted output\n",
    "#After adjusting C and gamma, this model is very effective\n",
    "#Unlike the lessons, the SVM model is far better than Gaussian Naive Bayes when used on this dataset\n",
    "#Precision and Recall are very high across the board\n",
    "print(classification_report(response_test, predicted_type))"
   ]
  }
 ],
 "metadata": {
  "kernelspec": {
   "display_name": "Python 3",
   "language": "python",
   "name": "python3"
  },
  "language_info": {
   "codemirror_mode": {
    "name": "ipython",
    "version": 3
   },
   "file_extension": ".py",
   "mimetype": "text/x-python",
   "name": "python",
   "nbconvert_exporter": "python",
   "pygments_lexer": "ipython3",
   "version": "3.8.8"
  }
 },
 "nbformat": 4,
 "nbformat_minor": 5
}
