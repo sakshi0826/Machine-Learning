{
 "cells": [
  {
   "cell_type": "markdown",
   "metadata": {},
   "source": [
    "# Advanced Clustering"
   ]
  },
  {
   "cell_type": "markdown",
   "metadata": {},
   "source": [
    "Run the code below to download the bank marketing dataset and read it as a Pandas dataframe.\n",
    "\n",
    "This dataset represents a marketing campaign made by a Portuguese bank where they contacted a number of their customers and asked their personal consumer price index score and consumer confidence index score. Using this data, the bank believes they can segment their customers for an upcoming marketing campaign.\n",
    "    \n",
    "We'll do that by using single linkage clustering to segment the data.</span></p>"
   ]
  },
  {
   "cell_type": "code",
   "execution_count": 1,
   "metadata": {},
   "outputs": [
    {
     "data": {
      "text/html": [
       "<div>\n",
       "<style scoped>\n",
       "    .dataframe tbody tr th:only-of-type {\n",
       "        vertical-align: middle;\n",
       "    }\n",
       "\n",
       "    .dataframe tbody tr th {\n",
       "        vertical-align: top;\n",
       "    }\n",
       "\n",
       "    .dataframe thead th {\n",
       "        text-align: right;\n",
       "    }\n",
       "</style>\n",
       "<table border=\"1\" class=\"dataframe\">\n",
       "  <thead>\n",
       "    <tr style=\"text-align: right;\">\n",
       "      <th></th>\n",
       "      <th>consumer_price_index</th>\n",
       "      <th>consumer_confidence_index</th>\n",
       "    </tr>\n",
       "    <tr>\n",
       "      <th>Customer ID</th>\n",
       "      <th></th>\n",
       "      <th></th>\n",
       "    </tr>\n",
       "  </thead>\n",
       "  <tbody>\n",
       "    <tr>\n",
       "      <th>1</th>\n",
       "      <td>93.994</td>\n",
       "      <td>-36.4</td>\n",
       "    </tr>\n",
       "    <tr>\n",
       "      <th>2</th>\n",
       "      <td>93.994</td>\n",
       "      <td>-36.4</td>\n",
       "    </tr>\n",
       "    <tr>\n",
       "      <th>3</th>\n",
       "      <td>93.994</td>\n",
       "      <td>-36.4</td>\n",
       "    </tr>\n",
       "    <tr>\n",
       "      <th>4</th>\n",
       "      <td>93.994</td>\n",
       "      <td>-36.4</td>\n",
       "    </tr>\n",
       "    <tr>\n",
       "      <th>5</th>\n",
       "      <td>93.994</td>\n",
       "      <td>-36.4</td>\n",
       "    </tr>\n",
       "  </tbody>\n",
       "</table>\n",
       "</div>"
      ],
      "text/plain": [
       "             consumer_price_index  consumer_confidence_index\n",
       "Customer ID                                                 \n",
       "1                          93.994                      -36.4\n",
       "2                          93.994                      -36.4\n",
       "3                          93.994                      -36.4\n",
       "4                          93.994                      -36.4\n",
       "5                          93.994                      -36.4"
      ]
     },
     "execution_count": 1,
     "metadata": {},
     "output_type": "execute_result"
    }
   ],
   "source": [
    "import pandas as pd\n",
    "from urllib.request import urlretrieve\n",
    "\n",
    "url = \"https://ac-101708228-virtuoso-prod.s3.amazonaws.com/uploads/download/125/bank_marketing.csv\"\n",
    "\n",
    "urlretrieve(url, \"bank_marketing.csv\")\n",
    "\n",
    "bank_marketing_dataset = pd.read_csv(\"bank_marketing.csv\",index_col=0)\n",
    "bank_marketing_dataset.head()"
   ]
  },
  {
   "cell_type": "markdown",
   "metadata": {},
   "source": [
    "<hr style=\"height:2px;border-width:0;color:black;background-color:black\">"
   ]
  },
  {
   "cell_type": "markdown",
   "metadata": {},
   "source": [
    "Scale the dataset."
   ]
  },
  {
   "cell_type": "code",
   "execution_count": 2,
   "metadata": {},
   "outputs": [],
   "source": [
    "#Imports the Min Max Scaler\n",
    "#This is more versatile than Absolute Max Scaling\n",
    "#But doesn't require the data to be normally distributed\n",
    "from sklearn.preprocessing import MinMaxScaler\n",
    "\n",
    "#min_max_scaler contains the scaled dataset\n",
    "#But this outputs the data as a NumPy array, so we lose the column names\n",
    "min_max_scaler = MinMaxScaler().fit_transform(bank_marketing_dataset)\n",
    "#This stores the dataset in a Pandas dataframe\n",
    "#It uses the column names from the original dataset\n",
    "scaled_dataset = pd.DataFrame(min_max_scaler, columns=bank_marketing_dataset.columns)"
   ]
  },
  {
   "cell_type": "markdown",
   "metadata": {},
   "source": [
    "<hr style=\"height:2px;border-width:0;color:black;background-color:black\">"
   ]
  },
  {
   "cell_type": "markdown",
   "metadata": {},
   "source": [
    "Plot the scaled data in a scatter plot, ensuring that the axes are scaled. Determine the number of clusters."
   ]
  },
  {
   "cell_type": "code",
   "execution_count": 3,
   "metadata": {},
   "outputs": [
    {
     "data": {
      "image/png": "[encoded data removed]",
      "text/plain": [
       "<Figure size 432x288 with 1 Axes>"
      ]
     },
     "metadata": {
      "needs_background": "light"
     },
     "output_type": "display_data"
    }
   ],
   "source": [
    "#Before we plot the data we need to import the matplotlib library\n",
    "import matplotlib.pyplot as plt\n",
    "\n",
    "#We use the scatter function to create a scatter plot\n",
    "plt.scatter(scaled_dataset[\"consumer_price_index\"],scaled_dataset[\"consumer_confidence_index\"])\n",
    "#We use the axis function to ensure that the axes are scaled\n",
    "#This lets us see the \"true\" shape of the data\n",
    "plt.axis(\"scaled\")\n",
    "plt.show()\n",
    "#Based on the result below, it looks like there are 4 distinct clusters"
   ]
  },
  {
   "cell_type": "markdown",
   "metadata": {},
   "source": [
    "<hr style=\"height:2px;border-width:0;color:black;background-color:black\">"
   ]
  },
  {
   "cell_type": "markdown",
   "metadata": {},
   "source": [
    "Perform single linkage clustering on the data."
   ]
  },
  {
   "cell_type": "code",
   "execution_count": 4,
   "metadata": {},
   "outputs": [],
   "source": [
    "#Imports the AgglomerativeClustering function\n",
    "from sklearn.cluster import AgglomerativeClustering\n",
    "\n",
    "#Stores the AgglomerativeClustering and sets parameters\n",
    "#n_clusters was set to 4 as it looked like there were 4 clusters in the scatter plot\n",
    "slc = AgglomerativeClustering(n_clusters=4,linkage='single')\n",
    "#The cluster variable stores the list of cluster assignments for each data point\n",
    "cluster = slc.fit_predict(scaled_dataset)"
   ]
  },
  {
   "cell_type": "markdown",
   "metadata": {},
   "source": [
    "<hr style=\"height:2px;border-width:0;color:black;background-color:black\">"
   ]
  },
  {
   "cell_type": "markdown",
   "metadata": {},
   "source": [
    "Plot the data on the unscaled dataset (but don't scale the axes) to see how the SLC algorithm clustered the data."
   ]
  },
  {
   "cell_type": "code",
   "execution_count": 5,
   "metadata": {},
   "outputs": [
    {
     "data": {
      "image/png": "[encoded data removed]",
      "text/plain": [
       "<Figure size 432x288 with 1 Axes>"
      ]
     },
     "metadata": {
      "needs_background": "light"
     },
     "output_type": "display_data"
    }
   ],
   "source": [
    "#We use the scatter function again on the original dataset\n",
    "#This time we set the c variable to match the cluster variable\n",
    "#This ensures that the color of the data points matches the clusters\n",
    "plt.scatter(bank_marketing_dataset[\"consumer_price_index\"],bank_marketing_dataset[\"consumer_confidence_index\"],c=cluster)\n",
    "plt.show()\n",
    "#In the plot below, it looks like SLC was quite effective at separating the clusters"
   ]
  },
  {
   "cell_type": "markdown",
   "metadata": {},
   "source": [
    "Run the code below to download the bank marketing dataset and read it as a Pandas dataframe.\n",
    "\n",
    "This dataset represents a marketing campaign made by a Portuguese bank where they contacted a number of their customers and asked their personal consumer price index score and consumer confidence index score. Using this data, the bank believes they can segment their customers for an upcoming marketing campaign.\n",
    "    \n",
    "We'll do that by using soft clustering to segment the data.</span></p>"
   ]
  },
  {
   "cell_type": "code",
   "execution_count": 6,
   "metadata": {},
   "outputs": [
    {
     "data": {
      "text/html": [
       "<div>\n",
       "<style scoped>\n",
       "    .dataframe tbody tr th:only-of-type {\n",
       "        vertical-align: middle;\n",
       "    }\n",
       "\n",
       "    .dataframe tbody tr th {\n",
       "        vertical-align: top;\n",
       "    }\n",
       "\n",
       "    .dataframe thead th {\n",
       "        text-align: right;\n",
       "    }\n",
       "</style>\n",
       "<table border=\"1\" class=\"dataframe\">\n",
       "  <thead>\n",
       "    <tr style=\"text-align: right;\">\n",
       "      <th></th>\n",
       "      <th>consumer_price_index</th>\n",
       "      <th>consumer_confidence_index</th>\n",
       "    </tr>\n",
       "    <tr>\n",
       "      <th>Customer ID</th>\n",
       "      <th></th>\n",
       "      <th></th>\n",
       "    </tr>\n",
       "  </thead>\n",
       "  <tbody>\n",
       "    <tr>\n",
       "      <th>1</th>\n",
       "      <td>93.994</td>\n",
       "      <td>-36.4</td>\n",
       "    </tr>\n",
       "    <tr>\n",
       "      <th>2</th>\n",
       "      <td>93.994</td>\n",
       "      <td>-36.4</td>\n",
       "    </tr>\n",
       "    <tr>\n",
       "      <th>3</th>\n",
       "      <td>93.994</td>\n",
       "      <td>-36.4</td>\n",
       "    </tr>\n",
       "    <tr>\n",
       "      <th>4</th>\n",
       "      <td>93.994</td>\n",
       "      <td>-36.4</td>\n",
       "    </tr>\n",
       "    <tr>\n",
       "      <th>5</th>\n",
       "      <td>93.994</td>\n",
       "      <td>-36.4</td>\n",
       "    </tr>\n",
       "  </tbody>\n",
       "</table>\n",
       "</div>"
      ],
      "text/plain": [
       "             consumer_price_index  consumer_confidence_index\n",
       "Customer ID                                                 \n",
       "1                          93.994                      -36.4\n",
       "2                          93.994                      -36.4\n",
       "3                          93.994                      -36.4\n",
       "4                          93.994                      -36.4\n",
       "5                          93.994                      -36.4"
      ]
     },
     "execution_count": 6,
     "metadata": {},
     "output_type": "execute_result"
    }
   ],
   "source": [
    "import pandas as pd\n",
    "from urllib.request import urlretrieve\n",
    "\n",
    "url = \"https://ac-101708228-virtuoso-prod.s3.amazonaws.com/uploads/download/125/bank_marketing.csv\"\n",
    "\n",
    "urlretrieve(url, \"bank_marketing.csv\")\n",
    "\n",
    "bank_marketing_dataset = pd.read_csv(\"bank_marketing.csv\",index_col=0)\n",
    "bank_marketing_dataset.head()"
   ]
  },
  {
   "cell_type": "markdown",
   "metadata": {},
   "source": [
    "<hr style=\"height:2px;border-width:0;color:black;background-color:black\">"
   ]
  },
  {
   "cell_type": "markdown",
   "metadata": {},
   "source": [
    "Scale the dataset."
   ]
  },
  {
   "cell_type": "code",
   "execution_count": 7,
   "metadata": {},
   "outputs": [],
   "source": [
    "#Imports the Min Max Scaler\n",
    "#This is more versatile than Absolute Max Scaling\n",
    "#But doesn't require the data to be normally distributed\n",
    "from sklearn.preprocessing import MinMaxScaler\n",
    "\n",
    "#min_max_scaler contains the scaled dataset\n",
    "#But this outputs the data as a NumPy array, so we lose the column names\n",
    "min_max_scaler = MinMaxScaler().fit_transform(bank_marketing_dataset)\n",
    "#This stores the dataset in a Pandas dataframe\n",
    "#It uses the column names from the original dataset\n",
    "scaled_dataset = pd.DataFrame(min_max_scaler, columns=bank_marketing_dataset.columns)"
   ]
  },
  {
   "cell_type": "markdown",
   "metadata": {},
   "source": [
    "<hr style=\"height:2px;border-width:0;color:black;background-color:black\">"
   ]
  },
  {
   "cell_type": "markdown",
   "metadata": {},
   "source": [
    "Plot the scaled data in a scatter plot, ensuring that the axes are scaled. Determine the number of clusters."
   ]
  },
  {
   "cell_type": "code",
   "execution_count": 8,
   "metadata": {},
   "outputs": [
    {
     "data": {
      "image/png": "[encoded data removed]",
      "text/plain": [
       "<Figure size 432x288 with 1 Axes>"
      ]
     },
     "metadata": {
      "needs_background": "light"
     },
     "output_type": "display_data"
    }
   ],
   "source": [
    "#Before we plot the data we need to import the matplotlib library\n",
    "import matplotlib.pyplot as plt\n",
    "\n",
    "#We use the scatter function to create a scatter plot\n",
    "plt.scatter(scaled_dataset[\"consumer_price_index\"],scaled_dataset[\"consumer_confidence_index\"])\n",
    "#We use the axis function to ensure that the axes are scaled\n",
    "#This lets us see the \"true\" shape of the data\n",
    "plt.axis(\"scaled\")\n",
    "plt.show()\n",
    "#Based on the result below, it looks like there are 4 distinct clusters"
   ]
  },
  {
   "cell_type": "markdown",
   "metadata": {},
   "source": [
    "<hr style=\"height:2px;border-width:0;color:black;background-color:black\">"
   ]
  },
  {
   "cell_type": "markdown",
   "metadata": {},
   "source": [
    "Perform soft clustering on the data."
   ]
  },
  {
   "cell_type": "code",
   "execution_count": 9,
   "metadata": {},
   "outputs": [],
   "source": [
    "#Imports the FCM function\n",
    "from fcmeans import FCM\n",
    "\n",
    "#Stores the FCM function in a variable\n",
    "#Sets the number of clusters to 4\n",
    "fcm = FCM(n_clusters=4)\n",
    "fcm.fit(min_max_scaler)"
   ]
  },
  {
   "cell_type": "markdown",
   "metadata": {},
   "source": [
    "<hr style=\"height:2px;border-width:0;color:black;background-color:black\">"
   ]
  },
  {
   "cell_type": "markdown",
   "metadata": {},
   "source": [
    "Create an array that outputs the probabilities that each data point is contained within each cluster."
   ]
  },
  {
   "cell_type": "code",
   "execution_count": 10,
   "metadata": {},
   "outputs": [],
   "source": [
    "#We use the soft_predict function to create these labeLs\n",
    "#We need to apply this function to an array\n",
    "#The min_max_scaler variable contains our data in the array format\n",
    "fcm_labels = fcm.soft_predict(min_max_scaler)"
   ]
  },
  {
   "cell_type": "markdown",
   "metadata": {},
   "source": [
    "<hr style=\"height:2px;border-width:0;color:black;background-color:black\">"
   ]
  },
  {
   "cell_type": "markdown",
   "metadata": {},
   "source": [
    "Plot the data on the unscaled dataset (but don't scale the axes) to see how the SLC algorithm clustered the data."
   ]
  },
  {
   "cell_type": "code",
   "execution_count": 11,
   "metadata": {
    "scrolled": false
   },
   "outputs": [
    {
     "data": {
      "image/png": "[encoded data removed]",
      "text/plain": [
       "<Figure size 432x288 with 1 Axes>"
      ]
     },
     "metadata": {
      "needs_background": "light"
     },
     "output_type": "display_data"
    },
    {
     "data": {
      "image/png": "[encoded data removed]",
      "text/plain": [
       "<Figure size 432x288 with 1 Axes>"
      ]
     },
     "metadata": {
      "needs_background": "light"
     },
     "output_type": "display_data"
    },
    {
     "data": {
      "image/png": "[encoded data removed]",
      "text/plain": [
       "<Figure size 432x288 with 1 Axes>"
      ]
     },
     "metadata": {
      "needs_background": "light"
     },
     "output_type": "display_data"
    },
    {
     "data": {
      "image/png": "[encoded data removed]",
      "text/plain": [
       "<Figure size 432x288 with 1 Axes>"
      ]
     },
     "metadata": {
      "needs_background": "light"
     },
     "output_type": "display_data"
    }
   ],
   "source": [
    "#Imports the functions needed for the custom function to run\n",
    "from matplotlib.colors import to_rgb, to_rgba\n",
    "\n",
    "#The function below allows us to create a scatter plot with varying alpha (transparency) for each data point\n",
    "def alpha_arr_scatter(x, y, color, alpha_arr):\n",
    "    r, g, b = to_rgb(color)\n",
    "    # r, g, b, _ = to_rgba(color)\n",
    "    color = [(r, g, b, alpha) for alpha in alpha_arr]\n",
    "    plt.scatter(x, y, c=color)\n",
    "\n",
    "#The variable below lets us specify which colors to use in the outputted charts\n",
    "colors=[\"blue\",\"gold\",\"magenta\",\"aquamarine\"]\n",
    "\n",
    "#Because we need a different scatter plot for each cluster, we need to create a for loop\n",
    "#This iterates through each cluster and assigns a different color for each one\n",
    "for i in range(0,4):\n",
    "    #We start by using the custom function from above\n",
    "    #We can use the original dataset instead of the scaled one\n",
    "    alpha_arr_scatter(bank_marketing_dataset[\"consumer_price_index\"],bank_marketing_dataset[\"consumer_confidence_index\"]\n",
    "                #We set the c argument to iterate through the colors variable so we have a different color for each chart\n",
    "                ,color=colors[i]\n",
    "                #We set the alpha_arr to iterate through the columns in the fcm_labels array\n",
    "                ,alpha_arr=fcm_labels[:,i])\n",
    "    plt.xlabel(\"consumer_price_index\",labelpad=10)    \n",
    "    plt.ylabel(\"consumer\\nconfidence\\nindex\", rotation=0,labelpad=20)\n",
    "    plt.show()\n",
    "#As we can see, soft clustering isn't working well here\n",
    "#It seems to be placing most values into the same cluster\n",
    "#It looks like SLC was a better match for this dataset"
   ]
  }
 ],
 "metadata": {
  "kernelspec": {
   "display_name": "Python 3 (ipykernel)",
   "language": "python",
   "name": "python3"
  },
  "language_info": {
   "codemirror_mode": {
    "name": "ipython",
    "version": 3
   },
   "file_extension": ".py",
   "mimetype": "text/x-python",
   "name": "python",
   "nbconvert_exporter": "python",
   "pygments_lexer": "ipython3",
   "version": "3.9.12"
  }
 },
 "nbformat": 4,
 "nbformat_minor": 2
}
